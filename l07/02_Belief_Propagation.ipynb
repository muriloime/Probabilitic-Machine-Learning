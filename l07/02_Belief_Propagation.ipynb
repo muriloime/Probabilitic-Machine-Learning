{
 "cells": [
  {
   "cell_type": "markdown",
   "metadata": {},
   "source": [
    "# Belief Propagation on Factor Graphs without(!) `pyro`"
   ]
  },
  {
   "cell_type": "markdown",
   "metadata": {},
   "source": [
    "### [sumproduct](https://github.com/ilyakava/sumproduct)\n",
    "Only categorical variables\n",
    "\n",
    "In case of loops only brute force avialable.\n",
    "\n",
    "Buggy"
   ]
  },
  {
   "cell_type": "code",
   "execution_count": null,
   "metadata": {},
   "outputs": [],
   "source": [
    "from sumproduct import Variable, Factor, FactorGraph\n",
    "import numpy as np\n",
    "\n",
    "g = FactorGraph(silent=True) # init the graph without message printouts\n",
    "x1 = Variable('x1', 2) # init a variable with 2 states\n",
    "x2 = Variable('x2', 3) # init a variable with 3 states\n",
    "f12 = Factor('f12', np.array([\n",
    "  [0.8,0.2],\n",
    "  [0.2,0.8],\n",
    "  [0.5,0.5]\n",
    "])) # create a factor, node potential for p(x1 | x2)\n",
    "# connect the parents to their children\n",
    "g.add(f12)\n",
    "g.append('f12', x2) # order must be the same as dimensions in factor potential!\n",
    "g.append('f12', x1) # note: f12 potential's shape is (3,2), i.e. (x2,x1)"
   ]
  },
  {
   "cell_type": "code",
   "execution_count": null,
   "metadata": {},
   "outputs": [],
   "source": [
    "g.compute_marginals()"
   ]
  },
  {
   "cell_type": "code",
   "execution_count": null,
   "metadata": {},
   "outputs": [],
   "source": [
    "g.nodes['x1'].marginal()"
   ]
  },
  {
   "cell_type": "code",
   "execution_count": null,
   "metadata": {},
   "outputs": [],
   "source": [
    "g.observe('x2', 2) # observe state 1 (middle of above f12 potential)\n",
    "g.compute_marginals(max_iter=500, tolerance=1e-6)\n",
    "g.nodes['x1'].marginal()\n",
    "# Should have been solved 2 years ago - try building from source"
   ]
  },
  {
   "cell_type": "markdown",
   "metadata": {},
   "source": [
    "### [pyfac](https://github.com/rdlester/pyfac)\n",
    "not pip-installabel (but may work)"
   ]
  },
  {
   "cell_type": "markdown",
   "metadata": {},
   "source": [
    "### [py-factorgraph](https://github.com/mbforbes/py-factorgraph)"
   ]
  },
  {
   "cell_type": "markdown",
   "metadata": {},
   "source": [
    "Only categorical variables\n",
    "\n",
    "Implements Loopy Belief Propagation\n",
    "\n",
    "Python 2 :)"
   ]
  },
  {
   "cell_type": "markdown",
   "metadata": {},
   "source": [
    "### [Belief-Propagation](https://github.com/krashkov/Belief-Propagation)"
   ]
  },
  {
   "cell_type": "markdown",
   "metadata": {},
   "source": [
    "Uses `igraph`\n",
    "\n",
    "Implemented in notebooks but looks good."
   ]
  }
 ],
 "metadata": {
  "kernelspec": {
   "display_name": "Python 3",
   "language": "python",
   "name": "python3"
  },
  "language_info": {
   "codemirror_mode": {
    "name": "ipython",
    "version": 3
   },
   "file_extension": ".py",
   "mimetype": "text/x-python",
   "name": "python",
   "nbconvert_exporter": "python",
   "pygments_lexer": "ipython3",
   "version": "3.8.2"
  }
 },
 "nbformat": 4,
 "nbformat_minor": 4
}
