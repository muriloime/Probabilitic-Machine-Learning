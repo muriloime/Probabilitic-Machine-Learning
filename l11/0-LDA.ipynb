{
 "cells": [
  {
   "cell_type": "code",
   "execution_count": 1,
   "metadata": {},
   "outputs": [],
   "source": [
    "%load_ext autoreload\n",
    "%autoreload 2"
   ]
  },
  {
   "cell_type": "markdown",
   "metadata": {},
   "source": [
    "# Latent Dirichlet Allocation (LDA)"
   ]
  },
  {
   "cell_type": "markdown",
   "metadata": {},
   "source": [
    "## Intro"
   ]
  },
  {
   "cell_type": "markdown",
   "metadata": {},
   "source": [
    "The notebook relies heavily on [Kevin Murphy's _Machine Learning A Probabilistic Perspective_ (p. 950)](https://www.cs.ubc.ca/~murphyk/MLbook/). The original work is described in [Latent Dirichlet Allocation](http://www.jmlr.org/papers/volume3/blei03a/blei03a.pdf) by Blei et al. [Griffiths and Steyvers in _Finding scientific topics_](https://www.ncbi.nlm.nih.gov/pmc/articles/PMC387300/pdf/1015228.pdf) extended LDA toolkit by proposing a new parameter estimation technique through the collapsed Gibbs sampling. Some parts are directly taken from these works. Also, you can find [_Latent Dirichlet Allocation: Towards a Deeper\n",
    "Understanding_](http://obphio.us/pdfs/lda_tutorial.pdf) helpful during the implementation.\n",
    "\n",
    "LDA belongs to the family of probabilistic graphical models that found many applications in working discrete data such gene descriptions and text corpora. This three-level hierarchical Bayesian model models each item in the collection with a finite mixture over an underlying set of topics. Each topic is modeled with a mixture of topic probabilities. These topic are not necessarily thematical topics in texts but in corpora they have a direct intrepretation. It is depicted as below\n",
    "\n",
    "![LDA](assets/lda.png)"
   ]
  },
  {
   "cell_type": "markdown",
   "metadata": {},
   "source": [
    "## How does it work\n",
    "\n",
    "We assume that we work with text documents, hence it is easier to introduce a few concepts. The basic idea is that documents are represented as random mixtures over latent topics, where each topic is characterized by a distribution over words. LDA assumes the following generative process for each document $\\mathbf{w}$ in a corpus $\\mathcal{D}$:\n",
    "\n",
    "1. Choose $N \\sim \\text{Poisson}(\\xi)$ (length of the document)\n",
    "2. Choose $\\theta \\sim \\text{Dir}(\\alpha)$ (choose probabilities of topics from the Dirichlet simplex, which conjugate to the Multinomial)\n",
    "3. For each of the $N$ words $w_n$:\n",
    "   1. Choose a topic $z_n \\sim \\text{Multinomial}(\\theta)$\n",
    "   2. Choose a word $w_n$ from $p(w_n | z_n, \\beta)$, a multinomial probability conditioned on the topic $z_n$ (each word has an assigned topic to it, $\\beta$ is a parameter of the prior over topics for words)\n",
    "   \n",
    "A few notes. $z_n$ is a $k$-dimensional simplex of topics. The $k$ is set upfront (however, we note that there exist methods for estimating it, such as Dirichlet Process) and stands for the number of topics. Word probabilities are parametrized by a $k \\times V$ matrix $\\beta$ ($V$ is a size of the vocabulary that has to be set upfront as well), and $\\beta_{ij} = p(w^j = 1 | z^i = 1)$ (probability of the $j$-th word occurence in the $i$-th topic context).\n",
    "\n",
    "Given the parameters $\\alpha$  and $\\beta$ (which have to be estimated during preprocessing of the corpus), the joint distribution of a topic mixture $\\theta$, a set of $N$ topics $\\mathbf{z}$, and a set of $N$ words $\\mathbf{w}$ is given by:\n",
    "\n",
    "$$\n",
    "p(\\boldsymbol{\\theta}, \\mathbf{z}, \\mathbf{w} | \\boldsymbol{\\alpha}, \\boldsymbol{\\beta}) = p(\\boldsymbol{\\theta} | \\boldsymbol{\\alpha}) \\prod^N_{n=1} p(z_n | \\boldsymbol{\\theta}) p(w_n | z_n, \\boldsymbol{\\beta})\n",
    "$$\n",
    "\n",
    "By marginilizing over parameters, we obtain the distribution of a single documents (how likely is a set of words for a particular document):\n",
    "\n",
    "$$\n",
    "p(\\mathbf{w} | \\boldsymbol{\\alpha}, \\boldsymbol{\\beta}) = \\int p(\\boldsymbol{\\theta}|\\boldsymbol{\\alpha})\\left(\\prod^N_{n=1} \\sum_{z_n} p(z_n | \\boldsymbol{\\theta}) p(w_n | z_n, \\boldsymbol{\\beta}) \\right)d\\boldsymbol{\\theta}\n",
    "$$\n",
    "\n",
    "and by taking the product of the marginal probabilities of single documents  - probability of a corpus:\n",
    "\n",
    "$$\n",
    "p(\\mathcal{D}|\\boldsymbol{\\alpha},\\boldsymbol{\\beta}) = \\prod^M_{d=1}\\int p(\\theta_d|\\boldsymbol{\\alpha}) \\left( \\prod^{N_d}_{n=1}\\sum_{z_{dn}}p(z_{dn} | \\theta_d)p(w_{dn} | z_{dn}, \\boldsymbol{\\beta}) \\right)d\\theta_d\n",
    "$$\n"
   ]
  },
  {
   "cell_type": "markdown",
   "metadata": {},
   "source": [
    "## Geometrical interpretation"
   ]
  },
  {
   "cell_type": "markdown",
   "metadata": {},
   "source": [
    "The LDA can considered as a dimensionality reduction algorithm (similar to the PCA). However, while the PCA works in Euclidean spaces, the LDA works in simplex spaces that, and thus it can handle ambiguities in words (so called \"polysemy\"). \n",
    "\n",
    "Words are distributed over $V - 1$ dimensional simplex (word simplex). The LDA considers $k$ points on the on the word simplex and forms a subsimplex of a lower dimensionality (topic simplex). Therefore, each word is cast on the subsimplex.\n",
    "\n",
    "LDA posits that each word of both the observed and unseen documents is generated by a randomly chosen topic which is drawn from a distribution with a randomly chosen parameter. This parameter is sampled once per document from a smooth distribution on the topic simplex."
   ]
  },
  {
   "cell_type": "markdown",
   "metadata": {},
   "source": [
    "## Variational inference"
   ]
  },
  {
   "cell_type": "markdown",
   "metadata": {},
   "source": [
    "Due to complex variable coupling, visible in the plate model, it is intractable to derive exact inference. However, it is possible to perform some sort of decoupling by removing edges from the original model. The variational distribution is derived then as\n",
    "\n",
    "![Variational model](assets/variational.png)\n",
    "\n",
    "The distribution is described as\n",
    "\n",
    "$$\n",
    "q(\\boldsymbol{\\theta}, \\mathbf{z} | \\boldsymbol{\\gamma}, \\boldsymbol{\\phi}) = q(\\boldsymbol{\\theta}|\\boldsymbol{\\gamma}) \\prod^N_{n=1} q(z_n | \\phi_n)\n",
    "$$\n",
    "\n",
    "where the Dirichlet parameter $\\boldsymbol{\\gamma}$ and the multinomial parameters $(\\phi_1,...,\\phi_N)$ are the free variational parameters.  In the language of text, the optimizing parameters $(\\boldsymbol{\\gamma}(\\mathbf{w}),\\boldsymbol{\\phi}(\\mathbf{w}))$ are document-specific. In particular, we view the Dirichlet parameters $\\boldsymbol{\\gamma}(\\mathbf{w})$ as providing a representation of a document in the topic simplex.\n",
    "\n",
    "\n",
    "By setting KL divergence in the VI framework, we obtain update equations:\n",
    "\n",
    "\\begin{align}\n",
    "\\phi_{ni} &\\propto \\beta_{iw_n} \\exp\\{\\mathbb{E}_q[\\log(\\theta_i)|\\boldsymbol{\\gamma}]\\} \\\\\n",
    "\\gamma_i &= \\alpha_i + \\sum^N_{n=1} \\phi_{ni}\n",
    "\\end{align}\n",
    "\n",
    "The expectation is equal to the: \n",
    "\n",
    "$$\n",
    "\\mathbb{E}_q[\\log(\\theta_i)|\\boldsymbol{\\gamma}] = \\Psi(\\gamma_i) - \\Psi\\left(\\sum^k_{j=1} \\gamma_j\\right)\n",
    "$$\n",
    "\n",
    "where $\\Psi$ is [digamma function](https://en.wikipedia.org/wiki/Digamma_function) (implemented in `pytorch`)\n",
    "\n",
    "The algorithm for the inference is performed as alternated updates of these parameters through $t \\in \\{1, ..., T\\}$ steps.\n",
    "\n",
    "![Inference](assets/inference.png)\n",
    "\n",
    "We recall, that $k$ denotes number of topics (hyperparameter) and $N$ - number of words in the document."
   ]
  },
  {
   "cell_type": "markdown",
   "metadata": {},
   "source": [
    "## Parameter estimation using Variational Bayes"
   ]
  },
  {
   "cell_type": "markdown",
   "metadata": {},
   "source": [
    "In particular, given a corpus of documents $\\mathcal{D} = \\{\\mathbf{w}_1, ..., \\mathbf{w}_M\\}$ (M documents), we wish to find parameters $\\boldsymbol{\\alpha}$ and $\\boldsymbol{\\beta}$ that maximize the (marginal) log likelihood of the data:\n",
    "\n",
    "$$\n",
    "\\mathcal{l}(\\boldsymbol{\\alpha}, \\boldsymbol{\\beta}) = \\sum^M_{d=1} \\log p(\\mathbf{w}_d | \\boldsymbol{\\alpha}, \\boldsymbol{\\beta})\n",
    "$$\n",
    "\n",
    "The equation can be optimized through variational EM that maximizes a lower bound with respect to the variational parameters $\\boldsymbol{\\gamma}$ and $\\boldsymbol{\\phi}$, and, then for fixed values of the variational parameters, maximizes the lower bound with respect to the model parameters $\\boldsymbol{\\alpha}$ and $\\boldsymbol{\\beta}$. \n",
    "\n",
    "The algorithm is as follows:\n",
    "1. (E-step) For each document, find the optimizing values of the variational parameters $\\{\\boldsymbol{\\gamma}_d, \\boldsymbol{\\phi}_d : d \\in \\mathcal{D}\\}$. This is done as described in the previous section.\n",
    "\n",
    "2. (M-step) Maximize the resulting lower bound on the log likelihood with respect to the model parameters $\\boldsymbol{\\alpha}$ and $\\boldsymbol{\\beta}$. This corresponds to finding maximum likelihood estimates with expected sufficient statistics for each document under the approximate posterior which is computed in the E-step.\n",
    "\n",
    "These two steps are repeated until the lower bound on the log likelihood converges.\n",
    "\n",
    "The M-step can be written analitacilly as:\n",
    "\n",
    "$$\n",
    "\\beta_{ij} \\propto \\sum^M_{d=1}\\sum^{N_d}_{n=1} \\phi_{dni}w^j_{dn}\n",
    "$$\n",
    "\n",
    "Note that, $\\boldsymbol{\\beta}$ has to be normalized afterwards.\n",
    "\n",
    "$$\n",
    "\\mathcal{L}_\\alpha = \\sum^M_{d=1} \n",
    "\\left( \n",
    "    \\log\\Gamma\n",
    "    \\left(\n",
    "        \\sum^k_{j=1}\\alpha_j\n",
    "    \\right) \n",
    "    - \\sum^k_{i=1} \\log\\Gamma\n",
    "    \\left(\n",
    "        \\alpha_i\n",
    "    \\right)\n",
    "    + \\sum^k_{i=1}\n",
    "    \\left(\n",
    "        \\left(\n",
    "            \\alpha_i -1\n",
    "        \\right)\n",
    "        \\left(\n",
    "            \\Psi\n",
    "            \\left(\n",
    "                \\gamma_{di}\n",
    "            \\right) \n",
    "            - \\Psi\n",
    "            \\left(\n",
    "                \\sum^k_{j=1}\\gamma_{dj}\n",
    "            \\right)\n",
    "        \\right) \n",
    "    \\right)\n",
    "\\right)\n",
    "$$\n",
    "\n",
    "We have already implemented optimizing $\\alpha$ so you can focus on other implementation details."
   ]
  },
  {
   "cell_type": "markdown",
   "metadata": {},
   "source": [
    "## Additional hyperparameters"
   ]
  },
  {
   "cell_type": "markdown",
   "metadata": {},
   "source": [
    "Full LDA models consider one additional parameters can be estimated: $\\eta$. \n",
    "\n",
    "$\\eta$ is a parameter telling about smoothing. The smoothing is necessary due to long-tail distribution of words, where many words in the vocabulary can be absent in many documents. The common approach is to use Laplace smoothing (add some constant to each count entry), however it is not applicable for the LDA directly. Blei et al. defined a new node in the PGM of the LDA that holds additional smoothing values, that contribute to the join probability. Again, derivation of its values require application of the Newton-Raphson method (in a similar way). The data, you will use, was preprocessed in such a way, that it will not be necessary to estimate and use $\\eta$ params."
   ]
  },
  {
   "cell_type": "markdown",
   "metadata": {},
   "source": [
    "## Parameter estimation using Gibbs Sampling"
   ]
  },
  {
   "cell_type": "markdown",
   "metadata": {},
   "source": [
    "Resources:\n",
    "- _[Latent Dirichlet Allocation](http://acsweb.ucsd.edu/~yuw176/report/lda.pdf)_ (description of the perplexity calculation)\n",
    "- _[Finding scientific topics](https://www.pnas.org/content/pnas/101/suppl_1/5228.full.pdf)_ (first proposition of the collapsed Gibbs sampling for the LDA\n",
    "- _[Machine Learning: A Probabilistic Perspective](https://bit.ly/3cSB6g1)_ (p. 955)\n",
    "- _[A Theoretical and Practical Implementation Tutorial on Topic Modeling and Gibbs Sampling](http://www.ccs.neu.edu/home/vip/teach/DMcourse/5_topicmodel_summ/notes_slides/sampling/darling-lda.pdf)_\n",
    "\n",
    "The Gibbs Sampling approach corresponds to the \"fuller\" plate representation of the LDA:\n",
    "\n",
    "![fuller lda](https://www.researchgate.net/publication/303203779/figure/fig1/AS:485818495180800@1492839563094/Graphical-representation-of-the-LDA-model-The-shaded-circle-represents-the-observed.png)\n",
    "\n",
    "Gibbs Sampling is one member of a family of algorithms from the Markov Chain Monte Carlo (MCMC) framework. The MCMC algorithms aim to construct a Markov chain that has the target posterior distribution as its stationary distribution. In other words, after a number of iterations of stepping through the chain, sampling from the distribution should converge to be close to sampling.\n",
    "\n",
    "For LDA, we are interested in the latent document-topic portions $\\theta_d$ for the $d\\in \\mathcal{D}$ document, the topic-word distributions $\\phi$ of size $K \\times V$ (distribution of words per each $k$-th topic), and the topic index assignments $\\mathbf{z}_d$ for each word in $\\mathbf{w}_{d}$. While conditional distributions – and therefore an LDA Gibbs Sampling algorithm – can be derived for each of these latent variables, we note that both $\\theta_d$ and $\\phi$ can be calculated using just the topic index assignments $\\mathbf{z}_d$ (i.e. $\\mathbf{z}$ is a sufficient statistic for both these distributions). Therefore, a simpler algorithm can be used if we integrate out the multinomial parameters and simply sample $\\mathbf{z}_d$. This is called a collapsed Gibbs sampler.\n",
    "\n",
    "The collapsed Gibbs sampler for LDA needs to compute the probability of a topic z being assigned to a word $w_{d,i}$, given all other topic assignments to all other words. Somewhat more formally, we are interested in computing the following posterior up to a constant:\n",
    "\n",
    "$$\n",
    "p(z_{d,i} | \\mathbf{z}_{d,-i}, \\alpha, \\beta, \\mathbf{w}_d)\n",
    "$$\n",
    "\n",
    "where $\\mathbf{z}_{d,-i}$ means all topic allocations _except_ for $z_{d,i}$.\n",
    "\n",
    "Implementing an LDA collapsed Gibbs sampler is surprisingly straightforward. It involves setting up the requisite count variables, randomly initializing them, and then running a loop over the desired number of iterations where on each loop a topic is sampled for each word instance in the corpus. Following the Gibbs iterations, the counts can be used to compute the latent distributions $\\boldsymbol{\\theta}$ and $\\boldsymbol{\\phi}$. The only required count variables include $n_{d,k}$, the number of words assigned to topic $k$ in document $d$; and $n_{k,w}$, the number of times word $w$ is assigned to topic $k$. Finally, in addition to the obvious variables such as a representation of the corpus ($\\mathbf{w}$), we need an array $\\mathbf{z}$ which will contain the current topic assignment for each of the $N$ words in the corpus.\n",
    "\n",
    "The algorithm is defined as (notation is adapted from Murphy's book, refer there for more info):\n",
    "\n",
    "\n",
    "1. For each word $w_{d,i}$ sample a topic from\n",
    "\n",
    "$$\n",
    "z_{d,i} \\sim \\text{Categorical}(p(z_{d,i})), \\qquad  p(z_{d,i} = k | \\cdot) \\propto \\exp\\left\\{ \\log(\\theta_{d,k}) + \\log(\\phi_{k, v_{w_{d,i}}}) \\right\\}\n",
    "$$\n",
    "\n",
    "where $v_{w_{d,i}}$ denotes dictionary index of the word, $v_{w_{d,i}} \\in V$\n",
    "\n",
    "2. Estimate parameters of the topic $k$ distribution for each document $d$, $\\theta_{d,k}$\n",
    "\n",
    "        \n",
    "$$\n",
    "\\theta_{d,k}  = \\frac{\\alpha + n_{d,k}}{K\\alpha + n_d} \\qquad \\text{or} \\qquad p(\\theta_{d,k} | \\cdot) = \\text{Dirichlet}\\left(\\left\\{ \\alpha + \\sum_j\\mathbb{1}[z_{d,j} = k] \\right\\}\\right)\n",
    "$$\n",
    "\n",
    "where $n_{d,k}$ is a number of words in document $d$ that were assigned to the topic $k$, $n_d$ is a number of words in the $d$ document, and $\\mathbb{1}[z_{d,j} = k]$ returns one if the topic index for the word $w_{d,j}$ is equal to $k$. Both equations are equal, while the first one being the MAP estimate. It's your choice which one to implement, however both should converge to a similar solution.\n",
    "\n",
    "3. Estimate parameters of the word distribution for each topic $\\phi_{k,v}$\n",
    "        \n",
    "$$\n",
    "\\phi_{k, v} = \\frac{\\beta + n_{k, v}}{V\\beta + n_k} \\qquad \\text{or} \\qquad p(\\phi_{k,v} | \\cdot) = \\text{Dirichlet}\\left(\\left\\{\\beta + \\sum_{d\\in\\mathcal{D}}\\sum_{i} \\mathbb{1}[w_{d,i} = v, z_{d,i} = k] \\right\\}\\right)\n",
    "$$\n",
    "\n",
    "where $n_{k,v}$ is a number of assignments of word $v$ to the topic $k$ in all documents, $n_k$ is a number of all words assigned to the topic $k$, and $\\mathbb{1}[w_{d,i} = v, z_{d,i} = k]$ returns one if the word $w_{d,i}$ is the same word as $v$ and it is assigned to the topic $k$. Both equations are equal, while the first one being the MAP estimate. It's your choice which one to implement, however both should converge to a similar solution.\n",
    "\n",
    "4. Repeat until convergence or for predefined number of steps.\n",
    "\n",
    "The algorithm differs from the VG in such a way, that it does not learn / estimate $\\beta$ and $\\alpha$ parameters - these only serve as a prior knowledge about our model and are set as scalars in that frameworks. "
   ]
  },
  {
   "cell_type": "markdown",
   "metadata": {},
   "source": [
    "## Perplexity"
   ]
  },
  {
   "cell_type": "markdown",
   "metadata": {},
   "source": [
    "The model can evaluated using perplexity measure, a standard metric in natural language processing\n",
    "\n",
    "$$\n",
    "perplexity(\\mathcal{D}) = \\exp\\left\\{-\\frac{\\sum^M_{d=1} \\log p(\\mathbf{w}_d)}{\\sum^M_{d=1} N_d} \\right\\}\n",
    "$$\n",
    "\n",
    "in the general form, where\n",
    "\n",
    "$$ \n",
    "\\log p(\\mathbf{w}_d) = \\sum_{v \\in V} n_{d,v} \\log\\left( \\sum_{k\\in K}\\phi_{k,v}\\cdot \\theta_{d,k}  \\right)\n",
    "$$\n",
    "\n",
    "and $n_{d,v}$ denotes number of occurences of word $v$ in the $d$ document.\n",
    "\n",
    "\n",
    "Intuitively, perplexity measures the weighted average **branching factor** of the model's predictive distribution. Suppose the model predicts that each symbol (letter, word, whatever) is equally likely, so $p(y_i|\\mathbf{y}_{1:i-1}) = 1 / K$. Then the perplexity is $((1 / K)^N)^{-1/N} = N$. So for $V = 1000$, maximum perplexity is 1000, and mimnimal is 0. If some symbols are omre likely than others, and the model correctly reflects this, its perplexity will be lower than K. Of course, $H(p, p) = H(p) \\leq H(p,q)$ (for two stochastic processes $p$, $q$), so we can never reduce the perplexity below the entropy of the true underlying stochastic proceess."
   ]
  },
  {
   "cell_type": "markdown",
   "metadata": {},
   "source": [
    "## Tasks"
   ]
  },
  {
   "cell_type": "markdown",
   "metadata": {},
   "source": [
    "- Implement generating topic assignments for words\n",
    "- Implement estimation of topic distribution parameters for each document\n",
    "- Implement estimation of words distribution parameters for each topic\n",
    "- Implement calculating perplexity \n",
    "- Implement getting topic distribution for a word and most probable topic for a document (we asssume that these methods are evaluated on the train dataset only)\n",
    "\n",
    "**Note:** You can freely change parameters defined in `src/common.py` for debugging purposes."
   ]
  },
  {
   "cell_type": "markdown",
   "metadata": {},
   "source": [
    "## Dataset"
   ]
  },
  {
   "cell_type": "markdown",
   "metadata": {},
   "source": [
    "The data set I used is the 20Newsgroup data set. The data set is already preprocessed and both train and test splits consists of list of documents where each document $d$ has $N_d$ words. Words have been already lemmatized, stemmed and stop words have been removed. There are 20 targets in the data set — `alt.atheism`, `comp.graphics`, `comp.os.ms-windows.misc`, `comp.sys.ibm.pc.hardware`, `comp.sys.mac.hardware`, `comp.windows.x`, `misc.forsale`, `rec.autos`, `rec.motorcycles`, `rec.sport.baseball`, `rec.sport.hockey`, `sci.crypt`, `sci.electronics`, `sci.med`, `sci.space`, `soc.religion.christian`, `talk.politics.guns`, `talk.politics.mideast`, `talk.politics.misc`, `talk.religion.misc`.\n",
    "\n",
    "Looking visually we can say that this data set has a few broad topics like:\n",
    "- Science\n",
    "- Politics\n",
    "- Sports\n",
    "- Religion\n",
    "- Technology etc."
   ]
  },
  {
   "cell_type": "code",
   "execution_count": 2,
   "metadata": {},
   "outputs": [
    {
     "name": "stderr",
     "output_type": "stream",
     "text": [
      "[nltk_data] Downloading package wordnet to\n",
      "[nltk_data]     /Users/telepchuk/nltk_data...\n",
      "[nltk_data]   Package wordnet is already up-to-date!\n"
     ]
    }
   ],
   "source": [
    "from collections import Counter\n",
    "from typing import List\n",
    "\n",
    "import gensim\n",
    "import numpy as np\n",
    "import torch\n",
    "import torch.distributions as dist\n",
    "\n",
    "from src.base import BaseLDA\n",
    "from src.data_utils import get_newsgroup_dataset\n",
    "from src.visualization import sentences_chart, visualize_history, display_topics"
   ]
  },
  {
   "cell_type": "code",
   "execution_count": 3,
   "metadata": {},
   "outputs": [],
   "source": [
    "(train_texts, test_texts), dictionary = get_newsgroup_dataset()"
   ]
  },
  {
   "cell_type": "code",
   "execution_count": 4,
   "metadata": {},
   "outputs": [
    {
     "data": {
      "text/plain": [
       "<matplotlib.axes._subplots.AxesSubplot at 0x129f26dd8>"
      ]
     },
     "execution_count": 4,
     "metadata": {},
     "output_type": "execute_result"
    },
    {
     "data": {
      "image/png": "[encoded data removed]",
      "text/plain": [
       "<Figure size 432x288 with 1 Axes>"
      ]
     },
     "metadata": {
      "needs_background": "light"
     },
     "output_type": "display_data"
    }
   ],
   "source": [
    "import seaborn as sns\n",
    "\n",
    "sns.kdeplot([len(doc) for doc in train_texts])"
   ]
  },
  {
   "cell_type": "code",
   "execution_count": 5,
   "metadata": {},
   "outputs": [
    {
     "data": {
      "text/plain": [
       "<matplotlib.axes._subplots.AxesSubplot at 0x12c15e6d8>"
      ]
     },
     "execution_count": 5,
     "metadata": {},
     "output_type": "execute_result"
    },
    {
     "data": {
      "image/png": "[encoded data removed]",
      "text/plain": [
       "<Figure size 432x288 with 1 Axes>"
      ]
     },
     "metadata": {
      "needs_background": "light"
     },
     "output_type": "display_data"
    }
   ],
   "source": [
    "sns.kdeplot([len(doc) for doc in test_texts])"
   ]
  },
  {
   "cell_type": "code",
   "execution_count": 6,
   "metadata": {},
   "outputs": [
    {
     "name": "stdout",
     "output_type": "stream",
     "text": [
      "Most common words in the train dataset:\n"
     ]
    },
    {
     "data": {
      "text/plain": [
       "[('scsi', 37),\n",
       " ('orbit', 33),\n",
       " ('space', 29),\n",
       " ('insur', 28),\n",
       " ('jew', 27),\n",
       " ('imag', 26),\n",
       " ('window', 26),\n",
       " ('control', 24),\n",
       " ('launch', 23),\n",
       " ('list', 23),\n",
       " ('armi', 23),\n",
       " ('power', 22),\n",
       " ('engin', 21),\n",
       " ('drive', 21),\n",
       " ('speed', 20),\n",
       " ('understand', 20),\n",
       " ('option', 20),\n",
       " ('hand', 19),\n",
       " ('current', 19),\n",
       " ('close', 19)]"
      ]
     },
     "execution_count": 6,
     "metadata": {},
     "output_type": "execute_result"
    }
   ],
   "source": [
    "print(\"Most common words in the train dataset:\")\n",
    "Counter([word for doc in train_texts for word in doc]).most_common(20)"
   ]
  },
  {
   "cell_type": "code",
   "execution_count": 7,
   "metadata": {},
   "outputs": [
    {
     "name": "stdout",
     "output_type": "stream",
     "text": [
      "Most common words in the test dataset:\n"
     ]
    },
    {
     "data": {
      "text/plain": [
       "[('muslim', 31),\n",
       " ('game', 27),\n",
       " ('govern', 25),\n",
       " ('april', 25),\n",
       " ('nation', 24),\n",
       " ('drive', 23),\n",
       " ('perform', 21),\n",
       " ('player', 21),\n",
       " ('group', 20),\n",
       " ('command', 20),\n",
       " ('happen', 19),\n",
       " ('test', 19),\n",
       " ('card', 19),\n",
       " ('degre', 19),\n",
       " ('play', 18),\n",
       " ('send', 17),\n",
       " ('design', 17),\n",
       " ('call', 15),\n",
       " ('feel', 15),\n",
       " ('andrew', 15)]"
      ]
     },
     "execution_count": 7,
     "metadata": {},
     "output_type": "execute_result"
    }
   ],
   "source": [
    "print(\"Most common words in the test dataset:\")\n",
    "Counter([word for doc in test_texts for word in doc]).most_common(20)"
   ]
  },
  {
   "cell_type": "code",
   "execution_count": 8,
   "metadata": {},
   "outputs": [
    {
     "name": "stdout",
     "output_type": "stream",
     "text": [
      "Num documents: 100\n",
      "Num unique words: 1000\n"
     ]
    }
   ],
   "source": [
    "print(\"Num documents: {}\".format(dictionary.num_docs))\n",
    "print(\"Num unique words: {}\".format(len(dictionary.values())))"
   ]
  },
  {
   "cell_type": "code",
   "execution_count": 9,
   "metadata": {},
   "outputs": [],
   "source": [
    "\n",
    "class LDA(BaseLDA):\n",
    "    def __init__(\n",
    "        self,\n",
    "        num_optim_steps: int,\n",
    "        num_topics: int,\n",
    "        dictionary: gensim.corpora.Dictionary,\n",
    "    ):\n",
    "        super().__init__(\n",
    "            num_optim_steps=num_optim_steps,  # number of optimization step\n",
    "            num_topics=num_topics,  # number of topics\n",
    "            dictionary=dictionary,  # contains the information about mappings word to indices\n",
    "        )\n",
    "    \n",
    "    def assign_topics_to_words(\n",
    "        self,\n",
    "        data: List[torch.Tensor],\n",
    "        document_topic_dist_theta: torch.Tensor,\n",
    "        topic_word_dist_phi: torch.Tensor,\n",
    "    ) -> List[torch.Tensor]:\n",
    "        \"\"\"Generate topic assigments for each word in each document.\n",
    "        \n",
    "        :param dataset: Each entry is a list of indices (a single document)\n",
    "            with the variable length and the whole parameter represents list of \n",
    "            documents. In a single document, words are indices from the dictionary\n",
    "            (tensor N_d of longs).\n",
    "        :param document_topic_dist_theta: Matrix D x K where each row entry\n",
    "            has parameters of the topic distributions (a'ka probability that\n",
    "            the document has a particular topic)\n",
    "        :param topic_word_dist_phi: Matrix K x V where each row entry\n",
    "            has parameters of the topic distributions (a'ka probability that\n",
    "            the topic has a particular word).\n",
    "        :return: List of topic assignments for each word in each document\n",
    "            sampled from the categorical distribution.\n",
    "        \"\"\"\n",
    "        # TODO: Sample topic assignments for each word in each document\n",
    "\n",
    "        assignmets = []\n",
    "\n",
    "        for d, word_indices in enumerate(data):\n",
    "            z_d = []\n",
    "            for v in word_indices:\n",
    "                p = ((document_topic_dist_theta[d,:]).log() +\n",
    "                    (topic_word_dist_phi[:,v]).log()).exp()\n",
    "                z_di = dist.Categorical(p).sample()\n",
    "                z_d.append(z_di)\n",
    "            assignmets.append(z_d)\n",
    "        return assignmets\n",
    "        \n",
    "    def estimate_document_topic_distribution_theta(\n",
    "        self, data: List[torch.Tensor], topic_assignments_z: List[torch.Tensor]\n",
    "    ) -> torch.Tensor:\n",
    "        \"\"\"Estimate matrix theta.\n",
    "        \n",
    "        Each entry in the matrix describes probability of the topic\n",
    "        being assigned to the $d$-th document.\n",
    "        :param data: Each entry is a list of indices (a single document)\n",
    "            with the variable length and the whole parameter represents list of \n",
    "            documents. In a single document, words are indices from the dictionary\n",
    "            (tensor N_d of longs).\n",
    "        :param topic_assignments_z: Each entry corresponds to the `data` and \n",
    "            consists of topic assignments for each word in documents.\n",
    "        :return: Estimated matrix theta.\n",
    "        \"\"\"\n",
    "        # TODO: Perform calculation to estimate theta matrix parameters\n",
    "\n",
    "        z = topic_assignments_z\n",
    "        alpha = self.alpha\n",
    "        \n",
    "        topic_indices = torch.arange(self.num_topics)\n",
    "        theta = torch.zeros((len(data), self.num_topics))\n",
    "\n",
    "        for d, word_indices in enumerate(data):\n",
    "            z[d] = torch.tensor(z[d])\n",
    "            for k in topic_indices:\n",
    "                theta[d][k] = alpha + (z[d]==k).sum()\n",
    "                theta[d][k] /= self.num_topics * alpha + len(word_indices)\n",
    "\n",
    "        return theta\n",
    "    \n",
    "    def estimate_topic_word_distribution_phi(\n",
    "        self, data: List[torch.Tensor], topic_assignments_z: List[torch.Tensor],\n",
    "    ) -> torch.Tensor:\n",
    "        \"\"\"Estimate matrix phi.\n",
    "        \n",
    "        Each entry in the matrix describes probability of the word being\n",
    "        chosen for the $k$-th topic.\n",
    "        :param data: Each entry is a list of indices (a single document)\n",
    "            with the variable length and the whole parameter represents list of \n",
    "            documents. In a single document, words are indices from the dictionary\n",
    "            (tensor N_d of longs).\n",
    "        :param topic_assignments_z: Each entry corresponds to the `data` and \n",
    "            consists of topic assignments for each word in documents.\n",
    "        :return: Estimated matrix phi.\n",
    "        \"\"\"\n",
    "         # TODO: Perform calculation to estimate phi matrix paramaters\n",
    "\n",
    "        beta = self.beta\n",
    "        topic_indices = torch.arange(self.num_topics)\n",
    "        phi = torch.zeros(self.num_topics, self.vocabulary_size)\n",
    "        for k in topic_indices:\n",
    "            for v in range(self.vocabulary_size):\n",
    "                nominator = beta\n",
    "                denominator = self.vocabulary_size * beta\n",
    "                for d, word_indices in enumerate(data):\n",
    "                    nominator += (topic_assignments_z[d][word_indices == v] == k).sum()\n",
    "                    denominator += (topic_assignments_z[d] == k).sum()\n",
    "                phi[k][v] = nominator / denominator\n",
    "\n",
    "        return phi\n",
    "\n",
    "        \n",
    "    def run_gibbs_step(self, dataset: List[List[str]]):\n",
    "        \"\"\"Perform single estimation calculation of parameters.\n",
    "        \n",
    "        Estimated parameters should be: counts of topic usage,\n",
    "        counts of a word assigned to a particular topic,\n",
    "        counts of topics assigned in a document.\n",
    "        \n",
    "        :param dataset: Unprocessed list of documents, each document\n",
    "            containing list of words.\n",
    "        \"\"\"\n",
    "        \n",
    "        # all parameters are already initialized in the source code\n",
    "        docs_with_indices = self.get_word_indices_from_strings(dataset)\n",
    "        z = self.topic_assignments\n",
    "        theta = self.document_topic_distribution\n",
    "        phi = self.word_topics_distribution\n",
    "        \n",
    "        self.topic_assignments = self.assign_topics_to_words(docs_with_indices,theta,phi) # TODO\n",
    "        self.document_topic_distribution = self.estimate_document_topic_distribution_theta(docs_with_indices,self.topic_assignments) # TODO\n",
    "        self.word_topics_distribution = self.estimate_topic_word_distribution_phi(docs_with_indices,self.topic_assignments) # TODO\n",
    "        \n",
    "        \n",
    "    def get_perplexity(self, dataset: List[List[str]], iterations: int) -> float:\n",
    "        \"\"\"Calculate perplexity for the provided dataset.\n",
    "\n",
    "        :param dataset: Each entry is a lista of strings (a single document)\n",
    "            with the variable length and the whole parameter represents list of \n",
    "            documents. In a single document, words are strings. \n",
    "        :param iterations: Perform Gibbs sampling for the theta and \n",
    "            topic assignments parameters. It is necessary only if theta \n",
    "            `dataset` is different than the one used during `find_params`\n",
    "            call. Set to -1, to ensure that used dataset is the same as\n",
    "            during test.\n",
    "        :return: A single scalar of perplexity.\n",
    "        \"\"\"\n",
    "        docs_with_indices = self.get_word_indices_from_strings(dataset)\n",
    "        phi = self.word_topics_distribution\n",
    "        if iterations <= 0:\n",
    "            # TODO: Handle case where we evaluate perplexity for the train dataset\n",
    "            pass\n",
    "        else:\n",
    "            # Phi should stay fixed, since we estimated it during `find_params` method\n",
    "            # Need to reestimate theta and z\n",
    "            ... # TODO: Handle case where we evaluate perplexity for any dataset\n",
    "            for _ in range(iterations):\n",
    "                self.topic_assignments = self.assign_topics_to_words(docs_with_indices, self.document_topic_distribution, phi)\n",
    "                self.document_topic_distribution = self.estimate_document_topic_distribution_theta(docs_with_indices, self.topic_assignments)\n",
    "\n",
    "\n",
    "        # TODO: Calculate perplexity for estimated phi and theta.\n",
    "        theta = self.document_topic_distribution\n",
    "        nominator_term = 0\n",
    "        denominator_term = 0\n",
    "        for d, word_indices in enumerate(docs_with_indices):\n",
    "            log_prob = 0\n",
    "            for v in range(self.vocabulary_size):\n",
    "                n_dv = (word_indices == v).sum()\n",
    "                s = (phi[:, v] * theta[d, :]).sum()\n",
    "                log_prob += n_dv * s.log()\n",
    "            nominator_term += log_prob\n",
    "            denominator_term += len(word_indices)\n",
    "\n",
    "        perplexity = torch.exp(- nominator_term / denominator_term )\n",
    "        return perplexity\n",
    "        \n",
    "    def get_word_probas_over_topics_for_doc(self, doc: List[str]) -> np.ndarray:\n",
    "        \"\"\"Get probability of each word belonging to `self.num_topics` topics.\n",
    "        \n",
    "        Make a use of the MAP estimation of the word distribution over topics.\n",
    "        :param doc: Single document consisting of strings (words).\n",
    "        :return: ndarray matrix of dimensions `self.num_topics` x `len(doc)`\n",
    "            of probabilities for each word.\n",
    "        \"\"\"\n",
    "         # TODO: Extract necessary information from estimated matrices\n",
    "\n",
    "        doc_word_indices = self.get_word_indices_from_strings([doc])[0]\n",
    "        \n",
    "        topics_distribution_of_words = np.zeros((self.num_topics, len(doc)))\n",
    "        for i, word_index in enumerate(doc_word_indices):\n",
    "            topics_distribution_of_words[:, i] = self.word_topics_distribution[:, word_index]\n",
    "        \n",
    "        return topics_distribution_of_words\n",
    "        \n",
    "        \n",
    "    def get_topic_for_the_document(self, doc: List[str]) -> int:\n",
    "        \"\"\"Get argmax topic for a document.\n",
    "        \n",
    "        Make a use of the MAP estimation of the topic distribution for each document.\n",
    "        :param doc: Single document consisting of strings (words).\n",
    "        :return: Single int scalar corresponding to a document index.\n",
    "        \"\"\"\n",
    "        # TODO: Extract necessary information from the estimated matrices\n",
    "\n",
    "        doc_index = self.document2index(doc)\n",
    "        document_topic = torch.argmax(self.document_topic_distribution[doc_index])\n",
    "        return document_topic"
   ]
  },
  {
   "cell_type": "code",
   "execution_count": null,
   "metadata": {},
   "outputs": [
    {
     "data": {
      "application/vnd.jupyter.widget-view+json": {
       "model_id": "5b3a5a6d539549209855e0a1b3c01856",
       "version_major": 2,
       "version_minor": 0
      },
      "text/plain": [
       "HBox(children=(FloatProgress(value=0.0, description='Optim step', max=10.0, style=ProgressStyle(description_wi…"
      ]
     },
     "metadata": {},
     "output_type": "display_data"
    }
   ],
   "source": [
    "model = LDA(10, 20, dictionary)\n",
    "history = model.find_params(train_texts)"
   ]
  },
  {
   "cell_type": "code",
   "execution_count": null,
   "metadata": {},
   "outputs": [],
   "source": [
    "visualize_history(history)"
   ]
  },
  {
   "cell_type": "code",
   "execution_count": null,
   "metadata": {},
   "outputs": [],
   "source": [
    "print(\"Train perplexity: {:.4f}\".format(model.get_perplexity(train_texts, -1)))\n",
    "print(\"Test perplexity: {:.4f}\".format(model.get_perplexity(test_texts, 10)))"
   ]
  },
  {
   "cell_type": "code",
   "execution_count": null,
   "metadata": {},
   "outputs": [],
   "source": [
    "sentences_chart(model, train_texts, start=10, end=20)"
   ]
  },
  {
   "cell_type": "code",
   "execution_count": null,
   "metadata": {},
   "outputs": [],
   "source": [
    "display_topics(model)"
   ]
  },
  {
   "cell_type": "code",
   "execution_count": null,
   "metadata": {},
   "outputs": [],
   "source": []
  }
 ],
 "metadata": {
  "kernelspec": {
   "display_name": "Python 3",
   "language": "python",
   "name": "python3"
  },
  "language_info": {
   "codemirror_mode": {
    "name": "ipython",
    "version": 3
   },
   "file_extension": ".py",
   "mimetype": "text/x-python",
   "name": "python",
   "nbconvert_exporter": "python",
   "pygments_lexer": "ipython3",
   "version": "3.7.3"
  }
 },
 "nbformat": 4,
 "nbformat_minor": 4
}