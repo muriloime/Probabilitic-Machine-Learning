{
 "nbformat": 4,
 "nbformat_minor": 0,
 "metadata": {
  "kernelspec": {
   "display_name": "Python 3",
   "language": "python",
   "name": "python3"
  },
  "language_info": {
   "codemirror_mode": {
    "name": "ipython",
    "version": 3
   },
   "file_extension": ".py",
   "mimetype": "text/x-python",
   "name": "python",
   "nbconvert_exporter": "python",
   "pygments_lexer": "ipython3",
   "version": "3.8.2"
  },
  "colab": {
   "name": "03-Pyro-homework.ipynb",
   "provenance": [],
   "collapsed_sections": []
  },
  "widgets": {
   "application/vnd.jupyter.widget-state+json": {
    "c919ad3ea42d4ba7859d0fec80aa18ac": {
     "model_module": "@jupyter-widgets/controls",
     "model_name": "HBoxModel",
     "state": {
      "_view_name": "HBoxView",
      "_dom_classes": [],
      "_model_name": "HBoxModel",
      "_view_module": "@jupyter-widgets/controls",
      "_model_module_version": "1.5.0",
      "_view_count": null,
      "_view_module_version": "1.5.0",
      "box_style": "",
      "layout": "IPY_MODEL_33174ecf277b4ce6bf798125603b3f03",
      "_model_module": "@jupyter-widgets/controls",
      "children": [
       "IPY_MODEL_1f74158b42984d68919d4d5c56949faa",
       "IPY_MODEL_43f26c96dd3d43179af07ad497575733"
      ]
     }
    },
    "33174ecf277b4ce6bf798125603b3f03": {
     "model_module": "@jupyter-widgets/base",
     "model_name": "LayoutModel",
     "state": {
      "_view_name": "LayoutView",
      "grid_template_rows": null,
      "right": null,
      "justify_content": null,
      "_view_module": "@jupyter-widgets/base",
      "overflow": null,
      "_model_module_version": "1.2.0",
      "_view_count": null,
      "flex_flow": null,
      "width": null,
      "min_width": null,
      "border": null,
      "align_items": null,
      "bottom": null,
      "_model_module": "@jupyter-widgets/base",
      "top": null,
      "grid_column": null,
      "overflow_y": null,
      "overflow_x": null,
      "grid_auto_flow": null,
      "grid_area": null,
      "grid_template_columns": null,
      "flex": null,
      "_model_name": "LayoutModel",
      "justify_items": null,
      "grid_row": null,
      "max_height": null,
      "align_content": null,
      "visibility": null,
      "align_self": null,
      "height": null,
      "min_height": null,
      "padding": null,
      "grid_auto_rows": null,
      "grid_gap": null,
      "max_width": null,
      "order": null,
      "_view_module_version": "1.2.0",
      "grid_template_areas": null,
      "object_position": null,
      "object_fit": null,
      "grid_auto_columns": null,
      "margin": null,
      "display": null,
      "left": null
     }
    },
    "1f74158b42984d68919d4d5c56949faa": {
     "model_module": "@jupyter-widgets/controls",
     "model_name": "IntProgressModel",
     "state": {
      "_view_name": "ProgressView",
      "style": "IPY_MODEL_bdd9506cf7d44a07970225259030ba1e",
      "_dom_classes": [],
      "description": "100%",
      "_model_name": "IntProgressModel",
      "bar_style": "success",
      "max": 3000,
      "_view_module": "@jupyter-widgets/controls",
      "_model_module_version": "1.5.0",
      "value": 3000,
      "_view_count": null,
      "_view_module_version": "1.5.0",
      "orientation": "horizontal",
      "min": 0,
      "description_tooltip": null,
      "_model_module": "@jupyter-widgets/controls",
      "layout": "IPY_MODEL_fe8098cdc1b649b681bd5a1ac2c0ff20"
     }
    },
    "43f26c96dd3d43179af07ad497575733": {
     "model_module": "@jupyter-widgets/controls",
     "model_name": "HTMLModel",
     "state": {
      "_view_name": "HTMLView",
      "style": "IPY_MODEL_74b514fd3e4440e7ad9bf582dca53f56",
      "_dom_classes": [],
      "description": "",
      "_model_name": "HTMLModel",
      "placeholder": "​",
      "_view_module": "@jupyter-widgets/controls",
      "_model_module_version": "1.5.0",
      "value": " 3000/3000 [00:04&lt;00:00, 735.58it/s]",
      "_view_count": null,
      "_view_module_version": "1.5.0",
      "description_tooltip": null,
      "_model_module": "@jupyter-widgets/controls",
      "layout": "IPY_MODEL_1c75aeb7ba5f4597b400c522a2861397"
     }
    },
    "bdd9506cf7d44a07970225259030ba1e": {
     "model_module": "@jupyter-widgets/controls",
     "model_name": "ProgressStyleModel",
     "state": {
      "_view_name": "StyleView",
      "_model_name": "ProgressStyleModel",
      "description_width": "initial",
      "_view_module": "@jupyter-widgets/base",
      "_model_module_version": "1.5.0",
      "_view_count": null,
      "_view_module_version": "1.2.0",
      "bar_color": null,
      "_model_module": "@jupyter-widgets/controls"
     }
    },
    "fe8098cdc1b649b681bd5a1ac2c0ff20": {
     "model_module": "@jupyter-widgets/base",
     "model_name": "LayoutModel",
     "state": {
      "_view_name": "LayoutView",
      "grid_template_rows": null,
      "right": null,
      "justify_content": null,
      "_view_module": "@jupyter-widgets/base",
      "overflow": null,
      "_model_module_version": "1.2.0",
      "_view_count": null,
      "flex_flow": null,
      "width": null,
      "min_width": null,
      "border": null,
      "align_items": null,
      "bottom": null,
      "_model_module": "@jupyter-widgets/base",
      "top": null,
      "grid_column": null,
      "overflow_y": null,
      "overflow_x": null,
      "grid_auto_flow": null,
      "grid_area": null,
      "grid_template_columns": null,
      "flex": null,
      "_model_name": "LayoutModel",
      "justify_items": null,
      "grid_row": null,
      "max_height": null,
      "align_content": null,
      "visibility": null,
      "align_self": null,
      "height": null,
      "min_height": null,
      "padding": null,
      "grid_auto_rows": null,
      "grid_gap": null,
      "max_width": null,
      "order": null,
      "_view_module_version": "1.2.0",
      "grid_template_areas": null,
      "object_position": null,
      "object_fit": null,
      "grid_auto_columns": null,
      "margin": null,
      "display": null,
      "left": null
     }
    },
    "74b514fd3e4440e7ad9bf582dca53f56": {
     "model_module": "@jupyter-widgets/controls",
     "model_name": "DescriptionStyleModel",
     "state": {
      "_view_name": "StyleView",
      "_model_name": "DescriptionStyleModel",
      "description_width": "",
      "_view_module": "@jupyter-widgets/base",
      "_model_module_version": "1.5.0",
      "_view_count": null,
      "_view_module_version": "1.2.0",
      "_model_module": "@jupyter-widgets/controls"
     }
    },
    "1c75aeb7ba5f4597b400c522a2861397": {
     "model_module": "@jupyter-widgets/base",
     "model_name": "LayoutModel",
     "state": {
      "_view_name": "LayoutView",
      "grid_template_rows": null,
      "right": null,
      "justify_content": null,
      "_view_module": "@jupyter-widgets/base",
      "overflow": null,
      "_model_module_version": "1.2.0",
      "_view_count": null,
      "flex_flow": null,
      "width": null,
      "min_width": null,
      "border": null,
      "align_items": null,
      "bottom": null,
      "_model_module": "@jupyter-widgets/base",
      "top": null,
      "grid_column": null,
      "overflow_y": null,
      "overflow_x": null,
      "grid_auto_flow": null,
      "grid_area": null,
      "grid_template_columns": null,
      "flex": null,
      "_model_name": "LayoutModel",
      "justify_items": null,
      "grid_row": null,
      "max_height": null,
      "align_content": null,
      "visibility": null,
      "align_self": null,
      "height": null,
      "min_height": null,
      "padding": null,
      "grid_auto_rows": null,
      "grid_gap": null,
      "max_width": null,
      "order": null,
      "_view_module_version": "1.2.0",
      "grid_template_areas": null,
      "object_position": null,
      "object_fit": null,
      "grid_auto_columns": null,
      "margin": null,
      "display": null,
      "left": null
     }
    }
   }
  }
 },
 "cells": [
  {
   "cell_type": "code",
   "metadata": {
    "id": "BWt2C1Rj4ocI",
    "colab_type": "code",
    "colab": {
     "base_uri": "https://localhost:8080/",
     "height": 224
    },
    "outputId": "887a8598-b485-41eb-c870-b362c52b9066"
   },
   "source": [
    "!pip install pyro-ppl"
   ],
   "execution_count": 3,
   "outputs": [
    {
     "output_type": "stream",
     "text": [
      "Collecting pyro-ppl\n",
      "\u001b[?25l  Downloading https://files.pythonhosted.org/packages/f6/97/42073ec6cc550f6bf1e3982ded454500c657ee2a3fd2dd6886984c8d4ca2/pyro_ppl-1.3.0-py3-none-any.whl (495kB)\n",
      "\u001b[K     |████████████████████████████████| 501kB 2.8MB/s \n",
      "\u001b[?25hRequirement already satisfied: torch>=1.4.0 in /usr/local/lib/python3.6/dist-packages (from pyro-ppl) (1.4.0)\n",
      "Requirement already satisfied: tqdm>=4.36 in /usr/local/lib/python3.6/dist-packages (from pyro-ppl) (4.38.0)\n",
      "Requirement already satisfied: opt-einsum>=2.3.2 in /usr/local/lib/python3.6/dist-packages (from pyro-ppl) (3.2.0)\n",
      "Collecting pyro-api>=0.1.1\n",
      "  Downloading https://files.pythonhosted.org/packages/c2/bc/6cdbd1929e32fff62a33592633c2cc0393c7f7739131ccc9c9c4e28ac8dd/pyro_api-0.1.1-py3-none-any.whl\n",
      "Requirement already satisfied: numpy>=1.7 in /usr/local/lib/python3.6/dist-packages (from pyro-ppl) (1.18.2)\n",
      "Installing collected packages: pyro-api, pyro-ppl\n",
      "Successfully installed pyro-api-0.1.1 pyro-ppl-1.3.0\n"
     ],
     "name": "stdout"
    }
   ]
  },
  {
   "cell_type": "code",
   "metadata": {
    "id": "mbqHekpAl5SY",
    "colab_type": "code",
    "colab": {},
    "pycharm": {
     "is_executing": false
    }
   },
   "source": [
    "# import pytorch and pyro; set random generator seed\n",
    "import torch\n",
    "\n",
    "import pyro\n",
    "import pyro.distributions as dist\n",
    "from pyro.infer import Predictive\n",
    "\n",
    "import matplotlib.pyplot as plt\n",
    "from tqdm.notebook import trange\n",
    "\n",
    "pyro.set_rng_seed(101)\n",
    "\n",
    "# to clear all variables stored by Pyro\n",
    "pyro.clear_param_store()\n",
    "\n",
    "# enable validation for useful warnings and errors\n",
    "pyro.enable_validation(True)\n"
   ],
   "execution_count": 1,
   "outputs": []
  },
  {
   "cell_type": "markdown",
   "metadata": {
    "id": "4_Sqe5Xhl5Sw",
    "colab_type": "text"
   },
   "source": [
    "----\n",
    "Homework\n",
    "-------\n",
    "\n",
    "\n"
   ]
  },
  {
   "cell_type": "markdown",
   "metadata": {
    "id": "rDul3BrTl5S2",
    "colab_type": "text"
   },
   "source": [
    "1. Prepare a Pyro model function, which will express the number of buses arriving and the bus stop in an hour. Assume [Poisson distribution](https://en.wikipedia.org/wiki/Poisson_distribution) of the number of arrivals in per hour:\n",
    "\n",
    "   $$N \\sim Pois\\left(\\lambda\\right)$$\n",
    "\n",
    "   where $\\lambda$ is set using a function:\n",
    "   \n",
    "   $$\\lambda = \\left\\{\\begin{array}{c} 2 + 2 * \\sin\\left(\\frac{\\pi}{16}\\left(t - 8\\right)\\right),\\; t \\in \\left[8, 24\\right]  \\\\ 1,\\; t \\notin \\left[8, 24\\right] \\end{array}\\right.$$\n",
    "   \n",
    "   Where $t$ is hour of the day. Use the function from the cell below.\n",
    "   \n",
    "   For each hour print 3 sampels of bus arrivals. \n"
   ]
  },
  {
   "cell_type": "code",
   "metadata": {
    "id": "v4a6R2QAl5S3",
    "colab_type": "code",
    "colab": {
     "base_uri": "https://localhost:8080/",
     "height": 425
    },
    "outputId": "028cda65-f0b9-4751-97ed-528113f1a7b3"
   },
   "source": [
    "from math import sin, pi\n",
    "  \n",
    "def count_lambda(t):\n",
    "  return 2 + 2 * sin(pi/16 * (t-8)) if t >= 8 and t <=24 else 1\n",
    "\n",
    "def bus_arrival(hour):\n",
    "    lmbda = count_lambda(hour)\n",
    "    return pyro.sample('buses', dist.Poisson(lmbda))\n",
    "    \n",
    "\n",
    "for hour in range(1,25):\n",
    "    print(hour, [bus_arrival(hour).item() for _ in range(3)])"
   ],
   "execution_count": 28,
   "outputs": [
    {
     "output_type": "stream",
     "text": [
      "1 [0.0, 0.0, 0.0]\n",
      "2 [1.0, 2.0, 1.0]\n",
      "3 [0.0, 2.0, 1.0]\n",
      "4 [1.0, 0.0, 1.0]\n",
      "5 [1.0, 0.0, 2.0]\n",
      "6 [0.0, 1.0, 0.0]\n",
      "7 [2.0, 1.0, 1.0]\n",
      "8 [1.0, 2.0, 3.0]\n",
      "9 [5.0, 2.0, 2.0]\n",
      "10 [5.0, 3.0, 4.0]\n",
      "11 [4.0, 5.0, 3.0]\n",
      "12 [6.0, 4.0, 4.0]\n",
      "13 [6.0, 5.0, 6.0]\n",
      "14 [4.0, 6.0, 3.0]\n",
      "15 [2.0, 1.0, 9.0]\n",
      "16 [3.0, 1.0, 3.0]\n",
      "17 [4.0, 4.0, 2.0]\n",
      "18 [4.0, 3.0, 2.0]\n",
      "19 [8.0, 3.0, 3.0]\n",
      "20 [5.0, 4.0, 3.0]\n",
      "21 [4.0, 1.0, 1.0]\n",
      "22 [4.0, 3.0, 2.0]\n",
      "23 [2.0, 2.0, 1.0]\n",
      "24 [0.0, 2.0, 2.0]\n"
     ],
     "name": "stdout"
    }
   ]
  },
  {
   "cell_type": "markdown",
   "metadata": {
    "id": "ZTFoZ641l5TG",
    "colab_type": "text"
   },
   "source": [
    "2. Prepare a simpler guide, that will try to approximate `bus_arrival()` using only Poisson distribution (with $\\lambda$ as a param).\n",
    "\n",
    "$$N_{approx} \\sim Pois\\left(\\lambda\\right)$$\n",
    "\n",
    "   Train the model for hour 14.00 (`hour = 14.00`) and display how both params vary.\n"
   ]
  },
  {
   "cell_type": "code",
   "metadata": {
    "id": "1uYW1WP4l5TK",
    "colab_type": "code",
    "colab": {}
   },
   "source": [
    "def bus_arrival_guide(t):\n",
    "    rate = pyro.param('rate', torch.tensor(1.))\n",
    "    pyro.sample('buses', dist.Poisson(rate))"
   ],
   "execution_count": 0,
   "outputs": []
  },
  {
   "cell_type": "code",
   "metadata": {
    "id": "wZDv6wgil5TP",
    "colab_type": "code",
    "colab": {
     "base_uri": "https://localhost:8080/",
     "height": 658,
     "referenced_widgets": [
      "c919ad3ea42d4ba7859d0fec80aa18ac",
      "33174ecf277b4ce6bf798125603b3f03",
      "1f74158b42984d68919d4d5c56949faa",
      "43f26c96dd3d43179af07ad497575733",
      "bdd9506cf7d44a07970225259030ba1e",
      "fe8098cdc1b649b681bd5a1ac2c0ff20",
      "74b514fd3e4440e7ad9bf582dca53f56",
      "1c75aeb7ba5f4597b400c522a2861397"
     ]
    },
    "outputId": "936d5b74-3a5f-413c-8b3f-c65eb6fed97c"
   },
   "source": [
    "lr = 1e-2\n",
    "n_steps = 3000\n",
    "hour = 14.0\n",
    "\n",
    "pyro.clear_param_store()\n",
    "svi = pyro.infer.SVI(model=bus_arrival,\n",
    "                     guide=bus_arrival_guide,\n",
    "                     optim=pyro.optim.SGD({\"lr\": lr}),\n",
    "                     loss=pyro.infer.Trace_ELBO())\n",
    "\n",
    "\n",
    "losses, rates = [], []\n",
    "\n",
    "for t in trange(n_steps):\n",
    "    losses.append(svi.step(hour))\n",
    "    rates.append(pyro.param(\"rate\").item())\n",
    "\n",
    "plt.plot(losses)\n",
    "plt.title(\"ELBO\")\n",
    "plt.xlabel(\"step\")\n",
    "plt.ylabel(\"loss\")\n",
    "print(f\"rate = {pyro.param('rate').item()}\")\n",
    "plt.show()\n",
    "\n",
    "plt.subplot(1,2,1)\n",
    "plt.plot(rates)\n",
    "plt.ylabel('rate')\n",
    "plt.tight_layout()\n",
    "plt.show()\n",
    "print('real rate = ',count_lambda(hour))\n"
   ],
   "execution_count": 33,
   "outputs": [
    {
     "output_type": "display_data",
     "data": {
      "application/vnd.jupyter.widget-view+json": {
       "model_id": "c919ad3ea42d4ba7859d0fec80aa18ac",
       "version_minor": 0,
       "version_major": 2
      },
      "text/plain": [
       "HBox(children=(IntProgress(value=0, max=3000), HTML(value='')))"
      ]
     },
     "metadata": {
      "tags": []
     }
    },
    {
     "output_type": "stream",
     "text": [
      "\n",
      "rate = 3.846804618835449\n"
     ],
     "name": "stdout"
    },
    {
     "output_type": "display_data",
     "data": {
      "image/png": "[encoded data removed]",
      "text/plain": [
       "<Figure size 432x288 with 1 Axes>"
      ]
     },
     "metadata": {
      "tags": []
     }
    },
    {
     "output_type": "display_data",
     "data": {
      "image/png": "[encoded data removed]",
      "text/plain": [
       "<Figure size 432x288 with 1 Axes>"
      ]
     },
     "metadata": {
      "tags": []
     }
    },
    {
     "output_type": "stream",
     "text": [
      "real rate =  3.8477590650225735\n"
     ],
     "name": "stdout"
    }
   ]
  }
 ]
}