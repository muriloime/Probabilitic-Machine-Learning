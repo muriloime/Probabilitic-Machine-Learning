{
 "cells": [
  {
   "cell_type": "code",
   "execution_count": 50,
   "metadata": {},
   "outputs": [
    {
     "name": "stdout",
     "output_type": "stream",
     "text": [
      "The autoreload extension is already loaded. To reload it, use:\n",
      "  %reload_ext autoreload\n"
     ]
    }
   ],
   "source": [
    "%load_ext autoreload\n",
    "%autoreload 2"
   ]
  },
  {
   "cell_type": "code",
   "execution_count": 2,
   "metadata": {},
   "outputs": [],
   "source": [
    "import sys\n",
    "sys.path.append(\"./\")"
   ]
  },
  {
   "cell_type": "code",
   "execution_count": 3,
   "metadata": {},
   "outputs": [
    {
     "data": {
      "text/plain": [
       "<torch._C.Generator at 0x10f53b2b0>"
      ]
     },
     "execution_count": 3,
     "metadata": {},
     "output_type": "execute_result"
    }
   ],
   "source": [
    "import torch\n",
    "import seaborn as sns\n",
    "import matplotlib.pyplot as plt\n",
    "import pandas as pd\n",
    "\n",
    "from utils import (\n",
    "    load_betelgeuse_data_random_split, \n",
    "    load_betelgeuse_data_sequential_split, \n",
    ")\n",
    "from IPython.display import display, Code\n",
    "\n",
    "\n",
    "torch.manual_seed(707)"
   ]
  },
  {
   "cell_type": "markdown",
   "metadata": {},
   "source": [
    "# Gaussian Processes Regression"
   ]
  },
  {
   "cell_type": "markdown",
   "metadata": {},
   "source": [
    "### Gaussian Process\n",
    "Based on [4] _Quadrianto N., Kersting K., Xu Z. (2011) Gaussian Process. In: Sammut C., Webb G.I. (eds) Encyclopedia of Machine Learning. Springer, Boston, MA_ ([link](https://link.springer.com/referenceworkentry/10.1007/978-0-387-30164-8_324))\n",
    "\n",
    "*Gaussian processes* generalize multivariate Gaussian distributions over finite dimensional vectors to infinite dimensionality. Specifically, a Gaussian process is a stochastic process that has Gaussian distributed finite dimensional marginal distributions, hence the name. In doing so, it defines a distribution over functions, i.e., each draw from a Gaussian process is a function. Gaussian processes provide a principled, practical, and probabilistic approach to inference and learning in kernel machines.\n",
    "\n",
    "Formally, a Gaussian process is a stochastic process (i.e., a collection of random variables) in which all the finite-dimensional distributions are multivariate Gaussian distributions for any finite choice of variables. In general, Gaussian processes are used to define a probability distribution over functions $f: X \\rightarrow \\mathbb{R}$ such that the set of values of $f$ evaluated at an arbitrary set of points $\\{x_i\\}^N_{i=1} \\in X$ will have an $N$-variate Gaussian distribution.\n",
    "\n",
    "The *Finite Representation* is \"good enough\" what is guaranteed by the [Kolmogorov extension theorem](https://en.wikipedia.org/wiki/Kolmogorov_extension_theorem).\n",
    "\n",
    "For a more detailed description of *Model Representations* (e.g. *Finite Representation*), *Exchangeability* (a crucial concept in Probabilistic Modelling; we will refer to it when talking about Conformal Prediction) and the general relation between stochastic processes and Bayesian Non-Parametric models please refer to *Theory* section of [5] _Orbanz P., Teh Y.W. (2011) Bayesian Nonparametric Models. In: Sammut C., Webb G.I. (eds) Encyclopedia of Machine Learning. Springer, Boston, MA ([link](https://link.springer.com/referenceworkentry/10.1007%2F978-0-387-30164-8_66)).\n",
    "\n",
    "A Gaussian distribution is completely specified by its mean and covariance matrix. Similarly, a Gaussian process is characterized by its mean function \n",
    "\n",
    "$$ m(x) := \\mathbb{E}[f(x)] $$ \n",
    "\n",
    "and covariance function\n",
    "\n",
    "$$ C(x, x') := \\mathbb{E}[(f(x) - m(x))(f(x') - m(x'))]. $$\n",
    "\n",
    "The mean function can be arbitrarily chosen (for convenience, it is often taken to be a zero function since we can always center our observed outputs to have a zero mean), but the covariance function mustbe a [positive definite function](https://en.wikipedia.org/wiki/Positive-definite_function) to ensure the existence of all finite-dimensional distributions. That is, the positive definiteness of $C(.,.)$ ensures the [positive (semi-)definiteness](https://en.wikipedia.org/wiki/Definiteness_of_a_matrix#Definitions_for_real_matrices) of all covariance matrices, $\\Sigma$, appearing in the exponent of the finite-dimensional multivariate Gaussian distribution.\n",
    "\n",
    "There are generally two types of covariance functions: *stationary* and *non-stationary*. A stationary covariance function is a function that is translation invariant, i.e., $C(x,x′) = D(x−x′)$ for some function $D$. The typical examples include squared exponential, Matern class, $\\gamma$-exponenetial, exponential, rational quadratic, while examples of non-stationary covariance functions are dot product and polynomial.\n",
    "\n",
    "The attractiveness of Gaussian processes is that they admit the marginalization property, i.e., if the Gaussian process specifies $(f(x_1), f(x_2)) \\sim \\mathcal{N}(\\mu,\\Sigma)$, then it must also specify $f(x_1) \\sim \\mathcal{N}(\\mu_1, \\Sigma_{11})$, where $\\Sigma_{11}$ is the relevant submatrix of $\\Sigma$. This means, *addition of novel points will not influence the distribution of existing points*. The marginalization property allows us to concentrate on distribution of only observed data points with the rest of unobserved points considered to be marginalized out; thus a finite amount of computation for inference can be achieved.\n",
    "\n",
    "Example of Gaussian Process (Figure 2.) from [4]:\n",
    "\n",
    "![Figure2](gp_figure2.png)"
   ]
  },
  {
   "cell_type": "markdown",
   "metadata": {},
   "source": [
    "### Nonlinear regression\n",
    "Based on [5].\n",
    "\n",
    "The aim of regression is to infer a continuous function from a training set consisting of input–output pairs $\\{(t_i, x_i)\\}^n_{i=1}$. Parametric approaches parametrize the function using a finite number of parameters and attempt to infer these parameters from data. The prototypical Bayesian nonparametric approach to this problem is to define a prior distribution over continuous functions directly by means of a Gaussian process (GP)."
   ]
  },
  {
   "cell_type": "markdown",
   "metadata": {},
   "source": [
    "### Gaussian Process Regression\n",
    "\n",
    "GPR belongs to the family of nonparametic bayesian models, and specifically - kernel methods. Thanks to their usefullness and sound theory behind them, they found many applications where measuring uncertainty while maintaining high accuracy is of high interest. Power of GPR lies in the possibility of measuring correlation between two samples in the data using defined kernel. The kernel measures the distance between samples in the data. The resulting covariance matrix containing distances between samples is used as a covariance matrix of a multivariate gaussian. Therefore, a gaussian process is a generator of infinite number of functions that cross each point in the data. For new samples, it is possible to measure their uncertainty using provided covariance matrix.\n",
    "\n",
    "More info can be found in:\n",
    "[1] _Gaussian Processes for Machine Learning_, Carl Edward Rasmussen Christopher K. I. Williams ([link](http://www.gaussianprocess.org/gpml/chapters/RW.pdf)) - this source contains rich implementation details\n",
    "\n",
    "[2] _Machine Learning A Probabilistic Perspective_, Kevin Murphy, p. 515-531, ([link](https://doc.lagout.org/science/Artificial%20Intelligence/Machine%20learning/Machine%20Learning_%20A%20Probabilistic%20Perspective%20%5BMurphy%202012-08-24%5D.pdf))\n",
    "\n",
    "[3] _A Visual Exploration of Gaussian Processes_, Jochen Görtler, Rebecca Kehlbeck, Oliver Deussen ([link](https://distill.pub/2019/visual-exploration-gaussian-processes/))\n",
    "\n",
    "I highly recommend to take a look Dirichlet Processes as well ([link](https://www.stats.ox.ac.uk/~teh/research/npbayes/Teh2010a.pdf)).\n",
    "\n",
    "You may also find the [Lecture Notes on Bayesian Nonparametrics](http://www.gatsby.ucl.ac.uk/~porbanz/papers/porbanz_BNP_draft.pdf) by Peter Orbanz to be very helpful to understand the topic of GPR and Bayesian Nonparametrics in general.\n",
    "\n",
    "\n",
    "Your task is to implement Gaussian Process Regression with various kernels and compare them on the provided datasets. The task includes implementing kernel functions which are key components of GPs. Since there are no latent variables and no parameters, there is no need to use `pyro` and everything should be implement using bare `torch`. \n",
    "\n",
    "Example results of Gaussian Process using RBF kernel implemented for this task:\n",
    "\n",
    "![Example GP](example_gp.png)"
   ]
  },
  {
   "cell_type": "markdown",
   "metadata": {},
   "source": [
    "## Data\n",
    "\n",
    "You will work on a single dataset containing periodic data of luminosity of Betelgeuse. The Betelgues is one of celestial bodies, seen with naked eye. Recently, it started dimming which surprised scientists, and many hobbyists expected the supernova to happen which would provide great visual spectacle during night (currently, and returned to its normal brightness). The brightness is provided in zero-centered magnitude scale (logarithmic and the higher its value the dimmer the object is). Zero-centering is performed to simplify the task. In typical cases, the mean function of the data is modelled through seperate bayesian regression model. The x axis is normalized Julian Date. The data was already processed so it is easier to work on it.\n",
    "\n",
    "\n",
    "The data is provided by AAVSO, society of professional and amateur astronomers who gather samples and mark their correctness of these samples through voting system."
   ]
  },
  {
   "cell_type": "code",
   "execution_count": 4,
   "metadata": {},
   "outputs": [
    {
     "data": {
      "text/plain": [
       "<matplotlib.axes._subplots.AxesSubplot at 0x125a4bd90>"
      ]
     },
     "execution_count": 4,
     "metadata": {},
     "output_type": "execute_result"
    },
    {
     "data": {
      "image/png": "[encoded data removed]",
      "text/plain": [
       "<Figure size 1296x432 with 1 Axes>"
      ]
     },
     "metadata": {
      "needs_background": "light"
     },
     "output_type": "display_data"
    }
   ],
   "source": [
    "data = load_betelgeuse_data_random_split()\n",
    "\n",
    "train_data, test_data = data\n",
    "data = pd.concat(data, axis=0)\n",
    "dates, magnitudes = data.JD, data.Magnitude\n",
    "plt.figure(figsize=(18, 6))\n",
    "ax = sns.scatterplot(\"JD\", \"Magnitude\", data=train_data, label=\"Train\")\n",
    "sns.scatterplot(\"JD\", \"Magnitude\", data=test_data, label=\"Test\", ax=ax)"
   ]
  },
  {
   "cell_type": "code",
   "execution_count": 18,
   "metadata": {},
   "outputs": [],
   "source": [
    "x_train = torch.from_numpy(train_data[\"JD\"].values).float().unsqueeze(-1)\n",
    "y_train = torch.from_numpy(train_data[\"Magnitude\"].values).float().squeeze()\n",
    "\n",
    "x_test = torch.from_numpy(test_data[\"JD\"].values).float().unsqueeze(-1)\n",
    "y_test = torch.from_numpy(test_data[\"Magnitude\"].values).float().squeeze()\n",
    "\n",
    "non_normalized_original_x_train = x_train.clone()\n",
    "non_normalized_original_x_test = x_test.clone()\n",
    "\n",
    "means = x_train.mean(dim=0, keepdim=True)[0]\n",
    "stds = x_train.std(dim=0, keepdim=True)[0]\n",
    "\n",
    "x_train = (x_train - means) / stds\n",
    "x_test = (x_test - means) / stds\n",
    "\n",
    "y_mean = y_train.mean()\n",
    "y_train = y_train - y_mean\n",
    "y_test = y_test - y_mean\n",
    "\n",
    "x_vis = torch.linspace(\n",
    "    min(non_normalized_original_x_test.min(), non_normalized_original_x_train.min()) - 100,\n",
    "    max(non_normalized_original_x_test.max(), non_normalized_original_x_train.max()) + 100,\n",
    "    steps=100,\n",
    ").unsqueeze(-1)\n",
    "\n",
    "x_vis = (x_vis - means) / stds"
   ]
  },
  {
   "cell_type": "code",
   "execution_count": 6,
   "metadata": {
    "scrolled": true
   },
   "outputs": [
    {
     "data": {
      "text/html": [
       "<style>.output_html .hll { background-color: #ffffcc }\n",
       ".output_html  { background: #f8f8f8; }\n",
       ".output_html .c { color: #408080; font-style: italic } /* Comment */\n",
       ".output_html .err { border: 1px solid #FF0000 } /* Error */\n",
       ".output_html .k { color: #008000; font-weight: bold } /* Keyword */\n",
       ".output_html .o { color: #666666 } /* Operator */\n",
       ".output_html .ch { color: #408080; font-style: italic } /* Comment.Hashbang */\n",
       ".output_html .cm { color: #408080; font-style: italic } /* Comment.Multiline */\n",
       ".output_html .cp { color: #BC7A00 } /* Comment.Preproc */\n",
       ".output_html .cpf { color: #408080; font-style: italic } /* Comment.PreprocFile */\n",
       ".output_html .c1 { color: #408080; font-style: italic } /* Comment.Single */\n",
       ".output_html .cs { color: #408080; font-style: italic } /* Comment.Special */\n",
       ".output_html .gd { color: #A00000 } /* Generic.Deleted */\n",
       ".output_html .ge { font-style: italic } /* Generic.Emph */\n",
       ".output_html .gr { color: #FF0000 } /* Generic.Error */\n",
       ".output_html .gh { color: #000080; font-weight: bold } /* Generic.Heading */\n",
       ".output_html .gi { color: #00A000 } /* Generic.Inserted */\n",
       ".output_html .go { color: #888888 } /* Generic.Output */\n",
       ".output_html .gp { color: #000080; font-weight: bold } /* Generic.Prompt */\n",
       ".output_html .gs { font-weight: bold } /* Generic.Strong */\n",
       ".output_html .gu { color: #800080; font-weight: bold } /* Generic.Subheading */\n",
       ".output_html .gt { color: #0044DD } /* Generic.Traceback */\n",
       ".output_html .kc { color: #008000; font-weight: bold } /* Keyword.Constant */\n",
       ".output_html .kd { color: #008000; font-weight: bold } /* Keyword.Declaration */\n",
       ".output_html .kn { color: #008000; font-weight: bold } /* Keyword.Namespace */\n",
       ".output_html .kp { color: #008000 } /* Keyword.Pseudo */\n",
       ".output_html .kr { color: #008000; font-weight: bold } /* Keyword.Reserved */\n",
       ".output_html .kt { color: #B00040 } /* Keyword.Type */\n",
       ".output_html .m { color: #666666 } /* Literal.Number */\n",
       ".output_html .s { color: #BA2121 } /* Literal.String */\n",
       ".output_html .na { color: #7D9029 } /* Name.Attribute */\n",
       ".output_html .nb { color: #008000 } /* Name.Builtin */\n",
       ".output_html .nc { color: #0000FF; font-weight: bold } /* Name.Class */\n",
       ".output_html .no { color: #880000 } /* Name.Constant */\n",
       ".output_html .nd { color: #AA22FF } /* Name.Decorator */\n",
       ".output_html .ni { color: #999999; font-weight: bold } /* Name.Entity */\n",
       ".output_html .ne { color: #D2413A; font-weight: bold } /* Name.Exception */\n",
       ".output_html .nf { color: #0000FF } /* Name.Function */\n",
       ".output_html .nl { color: #A0A000 } /* Name.Label */\n",
       ".output_html .nn { color: #0000FF; font-weight: bold } /* Name.Namespace */\n",
       ".output_html .nt { color: #008000; font-weight: bold } /* Name.Tag */\n",
       ".output_html .nv { color: #19177C } /* Name.Variable */\n",
       ".output_html .ow { color: #AA22FF; font-weight: bold } /* Operator.Word */\n",
       ".output_html .w { color: #bbbbbb } /* Text.Whitespace */\n",
       ".output_html .mb { color: #666666 } /* Literal.Number.Bin */\n",
       ".output_html .mf { color: #666666 } /* Literal.Number.Float */\n",
       ".output_html .mh { color: #666666 } /* Literal.Number.Hex */\n",
       ".output_html .mi { color: #666666 } /* Literal.Number.Integer */\n",
       ".output_html .mo { color: #666666 } /* Literal.Number.Oct */\n",
       ".output_html .sa { color: #BA2121 } /* Literal.String.Affix */\n",
       ".output_html .sb { color: #BA2121 } /* Literal.String.Backtick */\n",
       ".output_html .sc { color: #BA2121 } /* Literal.String.Char */\n",
       ".output_html .dl { color: #BA2121 } /* Literal.String.Delimiter */\n",
       ".output_html .sd { color: #BA2121; font-style: italic } /* Literal.String.Doc */\n",
       ".output_html .s2 { color: #BA2121 } /* Literal.String.Double */\n",
       ".output_html .se { color: #BB6622; font-weight: bold } /* Literal.String.Escape */\n",
       ".output_html .sh { color: #BA2121 } /* Literal.String.Heredoc */\n",
       ".output_html .si { color: #BB6688; font-weight: bold } /* Literal.String.Interpol */\n",
       ".output_html .sx { color: #008000 } /* Literal.String.Other */\n",
       ".output_html .sr { color: #BB6688 } /* Literal.String.Regex */\n",
       ".output_html .s1 { color: #BA2121 } /* Literal.String.Single */\n",
       ".output_html .ss { color: #19177C } /* Literal.String.Symbol */\n",
       ".output_html .bp { color: #008000 } /* Name.Builtin.Pseudo */\n",
       ".output_html .fm { color: #0000FF } /* Name.Function.Magic */\n",
       ".output_html .vc { color: #19177C } /* Name.Variable.Class */\n",
       ".output_html .vg { color: #19177C } /* Name.Variable.Global */\n",
       ".output_html .vi { color: #19177C } /* Name.Variable.Instance */\n",
       ".output_html .vm { color: #19177C } /* Name.Variable.Magic */\n",
       ".output_html .il { color: #666666 } /* Literal.Number.Integer.Long */</style><div class=\"highlight\"><pre><span></span><span class=\"kn\">import</span> <span class=\"nn\">abc</span>\n",
       "<span class=\"kn\">import</span> <span class=\"nn\">typing</span> <span class=\"k\">as</span> <span class=\"nn\">t</span>\n",
       "\n",
       "<span class=\"kn\">import</span> <span class=\"nn\">matplotlib.pyplot</span> <span class=\"k\">as</span> <span class=\"nn\">plt</span>\n",
       "<span class=\"kn\">import</span> <span class=\"nn\">torch</span>\n",
       "\n",
       "\n",
       "<span class=\"k\">class</span> <span class=\"nc\">Kernel</span><span class=\"p\">(</span><span class=\"n\">abc</span><span class=\"o\">.</span><span class=\"n\">ABC</span><span class=\"p\">):</span>\n",
       "    <span class=\"nd\">@abc</span><span class=\"o\">.</span><span class=\"n\">abstractmethod</span>\n",
       "    <span class=\"k\">def</span> <span class=\"nf\">apply</span><span class=\"p\">(</span>\n",
       "        <span class=\"bp\">self</span><span class=\"p\">,</span>\n",
       "        <span class=\"n\">points</span><span class=\"p\">:</span> <span class=\"n\">torch</span><span class=\"o\">.</span><span class=\"n\">Tensor</span><span class=\"p\">,</span>\n",
       "        <span class=\"n\">other_points</span><span class=\"p\">:</span> <span class=\"n\">t</span><span class=\"o\">.</span><span class=\"n\">Optional</span><span class=\"p\">[</span><span class=\"n\">torch</span><span class=\"o\">.</span><span class=\"n\">Tensor</span><span class=\"p\">]</span> <span class=\"o\">=</span> <span class=\"kc\">None</span><span class=\"p\">,</span>\n",
       "    <span class=\"p\">)</span> <span class=\"o\">-&gt;</span> <span class=\"n\">torch</span><span class=\"o\">.</span><span class=\"n\">Tensor</span><span class=\"p\">:</span>\n",
       "        <span class=\"sd\">&quot;&quot;&quot;Transforms input data to obtain covariance matrix.</span>\n",
       "\n",
       "<span class=\"sd\">        Covariance matrix is used in the gaussian distribution over functions.</span>\n",
       "<span class=\"sd\">        :param points: Tensor of shape N x D, where N is the number of</span>\n",
       "<span class=\"sd\">            samples and D is the number of dimensions.</span>\n",
       "<span class=\"sd\">        :param other_points: Tensor of shape N&#39; x D, where N&#39; is the number of</span>\n",
       "<span class=\"sd\">            samples and D is the number of dimensions.</span>\n",
       "<span class=\"sd\">        :return: Matrix of size N x N&#39;. If `other_points` is `None`, then the</span>\n",
       "<span class=\"sd\">            method should produce matrix N x N.</span>\n",
       "<span class=\"sd\">        &quot;&quot;&quot;</span>\n",
       "\n",
       "    <span class=\"k\">def</span> <span class=\"nf\">visualize</span><span class=\"p\">(</span><span class=\"bp\">self</span><span class=\"p\">,</span> <span class=\"n\">num_points</span><span class=\"p\">:</span> <span class=\"nb\">int</span><span class=\"p\">)</span> <span class=\"o\">-&gt;</span> <span class=\"n\">plt</span><span class=\"o\">.</span><span class=\"n\">Axes</span><span class=\"p\">:</span>\n",
       "        <span class=\"sd\">&quot;&quot;&quot;Visualize kernel calculation.</span>\n",
       "\n",
       "<span class=\"sd\">        Example results are shown in</span>\n",
       "<span class=\"sd\">        https://mlss2011.comp.nus.edu.sg/uploads/Site/lect1gp.pdf.</span>\n",
       "<span class=\"sd\">        :param num_points: Number of points to generate.</span>\n",
       "<span class=\"sd\">        :return: Plot figure with kernel working</span>\n",
       "<span class=\"sd\">        &quot;&quot;&quot;</span>\n",
       "        <span class=\"n\">x</span> <span class=\"o\">=</span> <span class=\"n\">torch</span><span class=\"o\">.</span><span class=\"n\">arange</span><span class=\"p\">(</span><span class=\"n\">num_points</span><span class=\"p\">)</span><span class=\"o\">.</span><span class=\"n\">unsqueeze</span><span class=\"p\">(</span><span class=\"o\">-</span><span class=\"mi\">1</span><span class=\"p\">)</span><span class=\"o\">.</span><span class=\"n\">float</span><span class=\"p\">()</span>\n",
       "        <span class=\"n\">num_samples</span> <span class=\"o\">=</span> <span class=\"n\">x</span><span class=\"o\">.</span><span class=\"n\">shape</span><span class=\"p\">[</span><span class=\"mi\">0</span><span class=\"p\">]</span>\n",
       "        <span class=\"n\">results</span> <span class=\"o\">=</span> <span class=\"p\">(</span>\n",
       "            <span class=\"bp\">self</span><span class=\"o\">.</span><span class=\"n\">apply</span><span class=\"p\">(</span><span class=\"n\">x</span><span class=\"p\">)</span>\n",
       "            <span class=\"o\">.</span><span class=\"n\">reshape</span><span class=\"p\">((</span><span class=\"n\">num_samples</span><span class=\"p\">,</span> <span class=\"n\">num_samples</span><span class=\"p\">))</span>\n",
       "            <span class=\"o\">.</span><span class=\"n\">detach</span><span class=\"p\">()</span>\n",
       "            <span class=\"o\">.</span><span class=\"n\">cpu</span><span class=\"p\">()</span>\n",
       "            <span class=\"o\">.</span><span class=\"n\">numpy</span><span class=\"p\">()</span>\n",
       "        <span class=\"p\">)</span>\n",
       "\n",
       "        <span class=\"n\">fig</span><span class=\"p\">,</span> <span class=\"n\">ax</span> <span class=\"o\">=</span> <span class=\"n\">plt</span><span class=\"o\">.</span><span class=\"n\">subplots</span><span class=\"p\">(</span><span class=\"mi\">1</span><span class=\"p\">,</span> <span class=\"mi\">1</span><span class=\"p\">)</span>\n",
       "        <span class=\"n\">plt</span><span class=\"o\">.</span><span class=\"n\">imshow</span><span class=\"p\">(</span><span class=\"n\">results</span><span class=\"p\">)</span>\n",
       "\n",
       "        <span class=\"k\">return</span> <span class=\"n\">fig</span>\n",
       "\n",
       "\n",
       "<span class=\"k\">class</span> <span class=\"nc\">RBFKernel</span><span class=\"p\">(</span><span class=\"n\">Kernel</span><span class=\"p\">):</span>\n",
       "    <span class=\"k\">def</span> <span class=\"fm\">__init__</span><span class=\"p\">(</span><span class=\"bp\">self</span><span class=\"p\">,</span> <span class=\"n\">variance</span><span class=\"p\">:</span> <span class=\"nb\">float</span><span class=\"p\">,</span> <span class=\"n\">lengthscale</span><span class=\"p\">:</span> <span class=\"nb\">float</span><span class=\"p\">):</span>\n",
       "        <span class=\"bp\">self</span><span class=\"o\">.</span><span class=\"n\">lengthscale</span> <span class=\"o\">=</span> <span class=\"n\">lengthscale</span>\n",
       "        <span class=\"bp\">self</span><span class=\"o\">.</span><span class=\"n\">variance</span> <span class=\"o\">=</span> <span class=\"n\">variance</span>\n",
       "\n",
       "    <span class=\"k\">def</span> <span class=\"nf\">apply</span><span class=\"p\">(</span>\n",
       "        <span class=\"bp\">self</span><span class=\"p\">,</span>\n",
       "        <span class=\"n\">points</span><span class=\"p\">:</span> <span class=\"n\">torch</span><span class=\"o\">.</span><span class=\"n\">Tensor</span><span class=\"p\">,</span>\n",
       "        <span class=\"n\">other_points</span><span class=\"p\">:</span> <span class=\"n\">t</span><span class=\"o\">.</span><span class=\"n\">Optional</span><span class=\"p\">[</span><span class=\"n\">torch</span><span class=\"o\">.</span><span class=\"n\">Tensor</span><span class=\"p\">]</span> <span class=\"o\">=</span> <span class=\"kc\">None</span><span class=\"p\">,</span>\n",
       "    <span class=\"p\">)</span> <span class=\"o\">-&gt;</span> <span class=\"n\">torch</span><span class=\"o\">.</span><span class=\"n\">Tensor</span><span class=\"p\">:</span>\n",
       "        <span class=\"k\">raise</span> <span class=\"ne\">NotImplementedError</span>  <span class=\"c1\"># TODO</span>\n",
       "\n",
       "\n",
       "<span class=\"k\">class</span> <span class=\"nc\">PeriodicKernel</span><span class=\"p\">(</span><span class=\"n\">Kernel</span><span class=\"p\">):</span>\n",
       "    <span class=\"k\">def</span> <span class=\"fm\">__init__</span><span class=\"p\">(</span>\n",
       "        <span class=\"bp\">self</span><span class=\"p\">,</span> <span class=\"n\">lengthscale</span><span class=\"p\">:</span> <span class=\"nb\">float</span><span class=\"p\">,</span> <span class=\"n\">periodicty</span><span class=\"p\">:</span> <span class=\"nb\">float</span><span class=\"p\">,</span> <span class=\"n\">deviation</span><span class=\"p\">:</span> <span class=\"nb\">float</span>\n",
       "    <span class=\"p\">):</span>\n",
       "        <span class=\"bp\">self</span><span class=\"o\">.</span><span class=\"n\">lengthscale</span> <span class=\"o\">=</span> <span class=\"n\">lengthscale</span>\n",
       "        <span class=\"bp\">self</span><span class=\"o\">.</span><span class=\"n\">periodicity</span> <span class=\"o\">=</span> <span class=\"n\">periodicty</span>\n",
       "        <span class=\"bp\">self</span><span class=\"o\">.</span><span class=\"n\">deviation</span> <span class=\"o\">=</span> <span class=\"n\">deviation</span>\n",
       "\n",
       "    <span class=\"k\">def</span> <span class=\"nf\">apply</span><span class=\"p\">(</span>\n",
       "        <span class=\"bp\">self</span><span class=\"p\">,</span>\n",
       "        <span class=\"n\">points</span><span class=\"p\">:</span> <span class=\"n\">torch</span><span class=\"o\">.</span><span class=\"n\">Tensor</span><span class=\"p\">,</span>\n",
       "        <span class=\"n\">other_points</span><span class=\"p\">:</span> <span class=\"n\">t</span><span class=\"o\">.</span><span class=\"n\">Optional</span><span class=\"p\">[</span><span class=\"n\">torch</span><span class=\"o\">.</span><span class=\"n\">Tensor</span><span class=\"p\">]</span> <span class=\"o\">=</span> <span class=\"kc\">None</span><span class=\"p\">,</span>\n",
       "    <span class=\"p\">)</span> <span class=\"o\">-&gt;</span> <span class=\"n\">torch</span><span class=\"o\">.</span><span class=\"n\">Tensor</span><span class=\"p\">:</span>\n",
       "        <span class=\"k\">raise</span> <span class=\"ne\">NotImplementedError</span>  <span class=\"c1\"># TODO</span>\n",
       "\n",
       "\n",
       "<span class=\"k\">class</span> <span class=\"nc\">KernelCombiner</span><span class=\"p\">(</span><span class=\"n\">Kernel</span><span class=\"p\">):</span>\n",
       "    <span class=\"k\">def</span> <span class=\"fm\">__init__</span><span class=\"p\">(</span><span class=\"bp\">self</span><span class=\"p\">,</span> <span class=\"o\">*</span><span class=\"n\">kernels</span><span class=\"p\">:</span> <span class=\"n\">Kernel</span><span class=\"p\">):</span>\n",
       "        <span class=\"bp\">self</span><span class=\"o\">.</span><span class=\"n\">kernels</span> <span class=\"o\">=</span> <span class=\"n\">kernels</span>\n",
       "\n",
       "    <span class=\"k\">def</span> <span class=\"nf\">apply</span><span class=\"p\">(</span>\n",
       "        <span class=\"bp\">self</span><span class=\"p\">,</span>\n",
       "        <span class=\"n\">points</span><span class=\"p\">:</span> <span class=\"n\">torch</span><span class=\"o\">.</span><span class=\"n\">Tensor</span><span class=\"p\">,</span>\n",
       "        <span class=\"n\">other_points</span><span class=\"p\">:</span> <span class=\"n\">t</span><span class=\"o\">.</span><span class=\"n\">Optional</span><span class=\"p\">[</span><span class=\"n\">torch</span><span class=\"o\">.</span><span class=\"n\">Tensor</span><span class=\"p\">]</span> <span class=\"o\">=</span> <span class=\"kc\">None</span><span class=\"p\">,</span>\n",
       "    <span class=\"p\">)</span> <span class=\"o\">-&gt;</span> <span class=\"n\">torch</span><span class=\"o\">.</span><span class=\"n\">Tensor</span><span class=\"p\">:</span>\n",
       "        <span class=\"k\">raise</span> <span class=\"ne\">NotImplementedError</span>  <span class=\"c1\"># TODO</span>\n",
       "</pre></div>\n"
      ],
      "text/latex": [
       "\\begin{Verbatim}[commandchars=\\\\\\{\\}]\n",
       "\\PY{k+kn}{import} \\PY{n+nn}{abc}\n",
       "\\PY{k+kn}{import} \\PY{n+nn}{typing} \\PY{k}{as} \\PY{n+nn}{t}\n",
       "\n",
       "\\PY{k+kn}{import} \\PY{n+nn}{matplotlib}\\PY{n+nn}{.}\\PY{n+nn}{pyplot} \\PY{k}{as} \\PY{n+nn}{plt}\n",
       "\\PY{k+kn}{import} \\PY{n+nn}{torch}\n",
       "\n",
       "\n",
       "\\PY{k}{class} \\PY{n+nc}{Kernel}\\PY{p}{(}\\PY{n}{abc}\\PY{o}{.}\\PY{n}{ABC}\\PY{p}{)}\\PY{p}{:}\n",
       "    \\PY{n+nd}{@abc}\\PY{o}{.}\\PY{n}{abstractmethod}\n",
       "    \\PY{k}{def} \\PY{n+nf}{apply}\\PY{p}{(}\n",
       "        \\PY{n+nb+bp}{self}\\PY{p}{,}\n",
       "        \\PY{n}{points}\\PY{p}{:} \\PY{n}{torch}\\PY{o}{.}\\PY{n}{Tensor}\\PY{p}{,}\n",
       "        \\PY{n}{other\\PYZus{}points}\\PY{p}{:} \\PY{n}{t}\\PY{o}{.}\\PY{n}{Optional}\\PY{p}{[}\\PY{n}{torch}\\PY{o}{.}\\PY{n}{Tensor}\\PY{p}{]} \\PY{o}{=} \\PY{k+kc}{None}\\PY{p}{,}\n",
       "    \\PY{p}{)} \\PY{o}{\\PYZhy{}}\\PY{o}{\\PYZgt{}} \\PY{n}{torch}\\PY{o}{.}\\PY{n}{Tensor}\\PY{p}{:}\n",
       "        \\PY{l+s+sd}{\\PYZdq{}\\PYZdq{}\\PYZdq{}Transforms input data to obtain covariance matrix.}\n",
       "\n",
       "\\PY{l+s+sd}{        Covariance matrix is used in the gaussian distribution over functions.}\n",
       "\\PY{l+s+sd}{        :param points: Tensor of shape N x D, where N is the number of}\n",
       "\\PY{l+s+sd}{            samples and D is the number of dimensions.}\n",
       "\\PY{l+s+sd}{        :param other\\PYZus{}points: Tensor of shape N\\PYZsq{} x D, where N\\PYZsq{} is the number of}\n",
       "\\PY{l+s+sd}{            samples and D is the number of dimensions.}\n",
       "\\PY{l+s+sd}{        :return: Matrix of size N x N\\PYZsq{}. If `other\\PYZus{}points` is `None`, then the}\n",
       "\\PY{l+s+sd}{            method should produce matrix N x N.}\n",
       "\\PY{l+s+sd}{        \\PYZdq{}\\PYZdq{}\\PYZdq{}}\n",
       "\n",
       "    \\PY{k}{def} \\PY{n+nf}{visualize}\\PY{p}{(}\\PY{n+nb+bp}{self}\\PY{p}{,} \\PY{n}{num\\PYZus{}points}\\PY{p}{:} \\PY{n+nb}{int}\\PY{p}{)} \\PY{o}{\\PYZhy{}}\\PY{o}{\\PYZgt{}} \\PY{n}{plt}\\PY{o}{.}\\PY{n}{Axes}\\PY{p}{:}\n",
       "        \\PY{l+s+sd}{\\PYZdq{}\\PYZdq{}\\PYZdq{}Visualize kernel calculation.}\n",
       "\n",
       "\\PY{l+s+sd}{        Example results are shown in}\n",
       "\\PY{l+s+sd}{        https://mlss2011.comp.nus.edu.sg/uploads/Site/lect1gp.pdf.}\n",
       "\\PY{l+s+sd}{        :param num\\PYZus{}points: Number of points to generate.}\n",
       "\\PY{l+s+sd}{        :return: Plot figure with kernel working}\n",
       "\\PY{l+s+sd}{        \\PYZdq{}\\PYZdq{}\\PYZdq{}}\n",
       "        \\PY{n}{x} \\PY{o}{=} \\PY{n}{torch}\\PY{o}{.}\\PY{n}{arange}\\PY{p}{(}\\PY{n}{num\\PYZus{}points}\\PY{p}{)}\\PY{o}{.}\\PY{n}{unsqueeze}\\PY{p}{(}\\PY{o}{\\PYZhy{}}\\PY{l+m+mi}{1}\\PY{p}{)}\\PY{o}{.}\\PY{n}{float}\\PY{p}{(}\\PY{p}{)}\n",
       "        \\PY{n}{num\\PYZus{}samples} \\PY{o}{=} \\PY{n}{x}\\PY{o}{.}\\PY{n}{shape}\\PY{p}{[}\\PY{l+m+mi}{0}\\PY{p}{]}\n",
       "        \\PY{n}{results} \\PY{o}{=} \\PY{p}{(}\n",
       "            \\PY{n+nb+bp}{self}\\PY{o}{.}\\PY{n}{apply}\\PY{p}{(}\\PY{n}{x}\\PY{p}{)}\n",
       "            \\PY{o}{.}\\PY{n}{reshape}\\PY{p}{(}\\PY{p}{(}\\PY{n}{num\\PYZus{}samples}\\PY{p}{,} \\PY{n}{num\\PYZus{}samples}\\PY{p}{)}\\PY{p}{)}\n",
       "            \\PY{o}{.}\\PY{n}{detach}\\PY{p}{(}\\PY{p}{)}\n",
       "            \\PY{o}{.}\\PY{n}{cpu}\\PY{p}{(}\\PY{p}{)}\n",
       "            \\PY{o}{.}\\PY{n}{numpy}\\PY{p}{(}\\PY{p}{)}\n",
       "        \\PY{p}{)}\n",
       "\n",
       "        \\PY{n}{fig}\\PY{p}{,} \\PY{n}{ax} \\PY{o}{=} \\PY{n}{plt}\\PY{o}{.}\\PY{n}{subplots}\\PY{p}{(}\\PY{l+m+mi}{1}\\PY{p}{,} \\PY{l+m+mi}{1}\\PY{p}{)}\n",
       "        \\PY{n}{plt}\\PY{o}{.}\\PY{n}{imshow}\\PY{p}{(}\\PY{n}{results}\\PY{p}{)}\n",
       "\n",
       "        \\PY{k}{return} \\PY{n}{fig}\n",
       "\n",
       "\n",
       "\\PY{k}{class} \\PY{n+nc}{RBFKernel}\\PY{p}{(}\\PY{n}{Kernel}\\PY{p}{)}\\PY{p}{:}\n",
       "    \\PY{k}{def} \\PY{n+nf+fm}{\\PYZus{}\\PYZus{}init\\PYZus{}\\PYZus{}}\\PY{p}{(}\\PY{n+nb+bp}{self}\\PY{p}{,} \\PY{n}{variance}\\PY{p}{:} \\PY{n+nb}{float}\\PY{p}{,} \\PY{n}{lengthscale}\\PY{p}{:} \\PY{n+nb}{float}\\PY{p}{)}\\PY{p}{:}\n",
       "        \\PY{n+nb+bp}{self}\\PY{o}{.}\\PY{n}{lengthscale} \\PY{o}{=} \\PY{n}{lengthscale}\n",
       "        \\PY{n+nb+bp}{self}\\PY{o}{.}\\PY{n}{variance} \\PY{o}{=} \\PY{n}{variance}\n",
       "\n",
       "    \\PY{k}{def} \\PY{n+nf}{apply}\\PY{p}{(}\n",
       "        \\PY{n+nb+bp}{self}\\PY{p}{,}\n",
       "        \\PY{n}{points}\\PY{p}{:} \\PY{n}{torch}\\PY{o}{.}\\PY{n}{Tensor}\\PY{p}{,}\n",
       "        \\PY{n}{other\\PYZus{}points}\\PY{p}{:} \\PY{n}{t}\\PY{o}{.}\\PY{n}{Optional}\\PY{p}{[}\\PY{n}{torch}\\PY{o}{.}\\PY{n}{Tensor}\\PY{p}{]} \\PY{o}{=} \\PY{k+kc}{None}\\PY{p}{,}\n",
       "    \\PY{p}{)} \\PY{o}{\\PYZhy{}}\\PY{o}{\\PYZgt{}} \\PY{n}{torch}\\PY{o}{.}\\PY{n}{Tensor}\\PY{p}{:}\n",
       "        \\PY{k}{raise} \\PY{n+ne}{NotImplementedError}  \\PY{c+c1}{\\PYZsh{} TODO}\n",
       "\n",
       "\n",
       "\\PY{k}{class} \\PY{n+nc}{PeriodicKernel}\\PY{p}{(}\\PY{n}{Kernel}\\PY{p}{)}\\PY{p}{:}\n",
       "    \\PY{k}{def} \\PY{n+nf+fm}{\\PYZus{}\\PYZus{}init\\PYZus{}\\PYZus{}}\\PY{p}{(}\n",
       "        \\PY{n+nb+bp}{self}\\PY{p}{,} \\PY{n}{lengthscale}\\PY{p}{:} \\PY{n+nb}{float}\\PY{p}{,} \\PY{n}{periodicty}\\PY{p}{:} \\PY{n+nb}{float}\\PY{p}{,} \\PY{n}{deviation}\\PY{p}{:} \\PY{n+nb}{float}\n",
       "    \\PY{p}{)}\\PY{p}{:}\n",
       "        \\PY{n+nb+bp}{self}\\PY{o}{.}\\PY{n}{lengthscale} \\PY{o}{=} \\PY{n}{lengthscale}\n",
       "        \\PY{n+nb+bp}{self}\\PY{o}{.}\\PY{n}{periodicity} \\PY{o}{=} \\PY{n}{periodicty}\n",
       "        \\PY{n+nb+bp}{self}\\PY{o}{.}\\PY{n}{deviation} \\PY{o}{=} \\PY{n}{deviation}\n",
       "\n",
       "    \\PY{k}{def} \\PY{n+nf}{apply}\\PY{p}{(}\n",
       "        \\PY{n+nb+bp}{self}\\PY{p}{,}\n",
       "        \\PY{n}{points}\\PY{p}{:} \\PY{n}{torch}\\PY{o}{.}\\PY{n}{Tensor}\\PY{p}{,}\n",
       "        \\PY{n}{other\\PYZus{}points}\\PY{p}{:} \\PY{n}{t}\\PY{o}{.}\\PY{n}{Optional}\\PY{p}{[}\\PY{n}{torch}\\PY{o}{.}\\PY{n}{Tensor}\\PY{p}{]} \\PY{o}{=} \\PY{k+kc}{None}\\PY{p}{,}\n",
       "    \\PY{p}{)} \\PY{o}{\\PYZhy{}}\\PY{o}{\\PYZgt{}} \\PY{n}{torch}\\PY{o}{.}\\PY{n}{Tensor}\\PY{p}{:}\n",
       "        \\PY{k}{raise} \\PY{n+ne}{NotImplementedError}  \\PY{c+c1}{\\PYZsh{} TODO}\n",
       "\n",
       "\n",
       "\\PY{k}{class} \\PY{n+nc}{KernelCombiner}\\PY{p}{(}\\PY{n}{Kernel}\\PY{p}{)}\\PY{p}{:}\n",
       "    \\PY{k}{def} \\PY{n+nf+fm}{\\PYZus{}\\PYZus{}init\\PYZus{}\\PYZus{}}\\PY{p}{(}\\PY{n+nb+bp}{self}\\PY{p}{,} \\PY{o}{*}\\PY{n}{kernels}\\PY{p}{:} \\PY{n}{Kernel}\\PY{p}{)}\\PY{p}{:}\n",
       "        \\PY{n+nb+bp}{self}\\PY{o}{.}\\PY{n}{kernels} \\PY{o}{=} \\PY{n}{kernels}\n",
       "\n",
       "    \\PY{k}{def} \\PY{n+nf}{apply}\\PY{p}{(}\n",
       "        \\PY{n+nb+bp}{self}\\PY{p}{,}\n",
       "        \\PY{n}{points}\\PY{p}{:} \\PY{n}{torch}\\PY{o}{.}\\PY{n}{Tensor}\\PY{p}{,}\n",
       "        \\PY{n}{other\\PYZus{}points}\\PY{p}{:} \\PY{n}{t}\\PY{o}{.}\\PY{n}{Optional}\\PY{p}{[}\\PY{n}{torch}\\PY{o}{.}\\PY{n}{Tensor}\\PY{p}{]} \\PY{o}{=} \\PY{k+kc}{None}\\PY{p}{,}\n",
       "    \\PY{p}{)} \\PY{o}{\\PYZhy{}}\\PY{o}{\\PYZgt{}} \\PY{n}{torch}\\PY{o}{.}\\PY{n}{Tensor}\\PY{p}{:}\n",
       "        \\PY{k}{raise} \\PY{n+ne}{NotImplementedError}  \\PY{c+c1}{\\PYZsh{} TODO}\n",
       "\\end{Verbatim}\n"
      ],
      "text/plain": [
       "import abc\n",
       "import typing as t\n",
       "\n",
       "import matplotlib.pyplot as plt\n",
       "import torch\n",
       "\n",
       "\n",
       "class Kernel(abc.ABC):\n",
       "    @abc.abstractmethod\n",
       "    def apply(\n",
       "        self,\n",
       "        points: torch.Tensor,\n",
       "        other_points: t.Optional[torch.Tensor] = None,\n",
       "    ) -> torch.Tensor:\n",
       "        \"\"\"Transforms input data to obtain covariance matrix.\n",
       "\n",
       "        Covariance matrix is used in the gaussian distribution over functions.\n",
       "        :param points: Tensor of shape N x D, where N is the number of\n",
       "            samples and D is the number of dimensions.\n",
       "        :param other_points: Tensor of shape N' x D, where N' is the number of\n",
       "            samples and D is the number of dimensions.\n",
       "        :return: Matrix of size N x N'. If `other_points` is `None`, then the\n",
       "            method should produce matrix N x N.\n",
       "        \"\"\"\n",
       "\n",
       "    def visualize(self, num_points: int) -> plt.Axes:\n",
       "        \"\"\"Visualize kernel calculation.\n",
       "\n",
       "        Example results are shown in\n",
       "        https://mlss2011.comp.nus.edu.sg/uploads/Site/lect1gp.pdf.\n",
       "        :param num_points: Number of points to generate.\n",
       "        :return: Plot figure with kernel working\n",
       "        \"\"\"\n",
       "        x = torch.arange(num_points).unsqueeze(-1).float()\n",
       "        num_samples = x.shape[0]\n",
       "        results = (\n",
       "            self.apply(x)\n",
       "            .reshape((num_samples, num_samples))\n",
       "            .detach()\n",
       "            .cpu()\n",
       "            .numpy()\n",
       "        )\n",
       "\n",
       "        fig, ax = plt.subplots(1, 1)\n",
       "        plt.imshow(results)\n",
       "\n",
       "        return fig\n",
       "\n",
       "\n",
       "class RBFKernel(Kernel):\n",
       "    def __init__(self, variance: float, lengthscale: float):\n",
       "        self.lengthscale = lengthscale\n",
       "        self.variance = variance\n",
       "\n",
       "    def apply(\n",
       "        self,\n",
       "        points: torch.Tensor,\n",
       "        other_points: t.Optional[torch.Tensor] = None,\n",
       "    ) -> torch.Tensor:\n",
       "        raise NotImplementedError  # TODO\n",
       "\n",
       "\n",
       "class PeriodicKernel(Kernel):\n",
       "    def __init__(\n",
       "        self, lengthscale: float, periodicty: float, deviation: float\n",
       "    ):\n",
       "        self.lengthscale = lengthscale\n",
       "        self.periodicity = periodicty\n",
       "        self.deviation = deviation\n",
       "\n",
       "    def apply(\n",
       "        self,\n",
       "        points: torch.Tensor,\n",
       "        other_points: t.Optional[torch.Tensor] = None,\n",
       "    ) -> torch.Tensor:\n",
       "        raise NotImplementedError  # TODO\n",
       "\n",
       "\n",
       "class KernelCombiner(Kernel):\n",
       "    def __init__(self, *kernels: Kernel):\n",
       "        self.kernels = kernels\n",
       "\n",
       "    def apply(\n",
       "        self,\n",
       "        points: torch.Tensor,\n",
       "        other_points: t.Optional[torch.Tensor] = None,\n",
       "    ) -> torch.Tensor:\n",
       "        raise NotImplementedError  # TODO"
      ]
     },
     "metadata": {},
     "output_type": "display_data"
    }
   ],
   "source": [
    "display(Code(\"kernels.py\"))"
   ]
  },
  {
   "cell_type": "markdown",
   "metadata": {},
   "source": [
    "## Kernels\n",
    "The main reference for kernels, to be implemented in this task, is: _A Visual Exploration of Gaussian Processes_, Jochen Görtler, Rebecca Kehlbeck, Oliver Deussen ([link](https://distill.pub/2019/visual-exploration-gaussian-processes/)).\n",
    "\n",
    "The first part contains implementing kernels. A kernel has a method `apply` that takes two matrices $N \\times D$ (where $N$ is the number of samples and $D$ is the dimension of each sample) and outputs distance matrix $N \\times N$ that is considered as a covariance matrix of the multivariate gaussian. If the second argument is `None`, that the first matrix is used as the `other_points` argument. You can also combine kernels. The combination of kernels: $\\{K_1, K_2, ..., K_m\\}$ is performed as:\n",
    "$$\n",
    "\\hat{y} = \\prod^M_{i=1}K_i(x^{(1)}, x^{(2)})\n",
    "$$\n",
    "where $x^{(1)}$ and $x^{(2)}$ are $N \\times D$ matrices. \n",
    "\n",
    "Results of kernels can be easily visualized on dummy dataset. The visualization is already provided for you. Play with parameters of kernels to check how they influence the results.\n",
    "\n",
    "Parameter naming in each kernel constructor is taken from [[3]](https://distill.pub/2019/visual-exploration-gaussian-processes/)."
   ]
  },
  {
   "cell_type": "code",
   "execution_count": 6,
   "metadata": {},
   "outputs": [],
   "source": [
    "from gp import *\n",
    "from kernels import *"
   ]
  },
  {
   "cell_type": "code",
   "execution_count": 51,
   "metadata": {},
   "outputs": [
    {
     "name": "stdout",
     "output_type": "stream",
     "text": [
      "\n"
     ]
    },
    {
     "data": {
      "image/png": "[encoded data removed]",
      "text/plain": [
       "<Figure size 432x288 with 1 Axes>"
      ]
     },
     "metadata": {
      "needs_background": "light"
     },
     "output_type": "display_data"
    }
   ],
   "source": [
    "RBFKernel(4, 10).visualize(100)\n",
    "print()"
   ]
  },
  {
   "cell_type": "code",
   "execution_count": 52,
   "metadata": {},
   "outputs": [
    {
     "name": "stdout",
     "output_type": "stream",
     "text": [
      "\n"
     ]
    },
    {
     "data": {
      "image/png": "[encoded data removed]",
      "text/plain": [
       "<Figure size 432x288 with 1 Axes>"
      ]
     },
     "metadata": {
      "needs_background": "light"
     },
     "output_type": "display_data"
    }
   ],
   "source": [
    "PeriodicKernel(4, 10, 15).visualize(100)\n",
    "print()"
   ]
  },
  {
   "cell_type": "code",
   "execution_count": 19,
   "metadata": {},
   "outputs": [
    {
     "name": "stdout",
     "output_type": "stream",
     "text": [
      "\n"
     ]
    },
    {
     "data": {
      "image/png": "[encoded data removed]",
      "text/plain": [
       "<Figure size 432x288 with 1 Axes>"
      ]
     },
     "metadata": {
      "needs_background": "light"
     },
     "output_type": "display_data"
    }
   ],
   "source": [
    "KernelCombiner(\n",
    "    RBFKernel(1, 50),\n",
    "    PeriodicKernel(4, 10, 15)\n",
    ").visualize(100)\n",
    "print()"
   ]
  },
  {
   "cell_type": "markdown",
   "metadata": {},
   "source": [
    "# Implementing GPR\n",
    "The implementation should be performed in `gp.py`."
   ]
  },
  {
   "cell_type": "markdown",
   "metadata": {},
   "source": [
    "## Few notes on numerical stability\n",
    "\n",
    "While the dataset was thoroughly processed to avoid float problems, many of can meet with issues regarding obtaining singular matrices in estimating parameters of multivariate gaussians. To avoid this, you have to assume that datapoints are samples from a noisy distribution. Then, the formula of GP changes a bit but provides higher robustness both in terms of numerical stability and data extrapolation. More info is provided in attached readings.\n",
    "\n",
    "To avoid numerical stabilities, you can follow the description in _Gaussian Processes for Machine Learning_, Carl Edward Rasmussen Christopher K. I. Williams ([link](http://www.gaussianprocess.org/gpml/chapters/RW.pdf))\n",
    "\n",
    "Summarizing, there are few general tricks:\n",
    "- using `jitter` matrix that changes diagonals of the covariance matrix $\\Sigma$ with small values of $\\epsilon$, ex. the cell below raises `RuntimeError`"
   ]
  },
  {
   "cell_type": "code",
   "execution_count": 20,
   "metadata": {},
   "outputs": [
    {
     "ename": "RuntimeError",
     "evalue": "inverse_cpu: U(10,10) is zero, singular U.",
     "output_type": "error",
     "traceback": [
      "\u001B[0;31m---------------------------------------------------------------------------\u001B[0m",
      "\u001B[0;31mRuntimeError\u001B[0m                              Traceback (most recent call last)",
      "\u001B[0;32m<ipython-input-20-5766253b3367>\u001B[0m in \u001B[0;36m<module>\u001B[0;34m\u001B[0m\n\u001B[1;32m      1\u001B[0m \u001B[0mexample_matrix\u001B[0m \u001B[0;34m=\u001B[0m \u001B[0mtorch\u001B[0m\u001B[0;34m.\u001B[0m\u001B[0mrandn\u001B[0m\u001B[0;34m(\u001B[0m\u001B[0;36m10\u001B[0m\u001B[0;34m,\u001B[0m \u001B[0;36m10\u001B[0m\u001B[0;34m)\u001B[0m\u001B[0;34m\u001B[0m\u001B[0;34m\u001B[0m\u001B[0m\n\u001B[1;32m      2\u001B[0m \u001B[0mexample_matrix\u001B[0m\u001B[0;34m[\u001B[0m\u001B[0;36m0\u001B[0m\u001B[0;34m]\u001B[0m \u001B[0;34m=\u001B[0m \u001B[0mexample_matrix\u001B[0m\u001B[0;34m[\u001B[0m\u001B[0;36m1\u001B[0m\u001B[0;34m]\u001B[0m\u001B[0;34m\u001B[0m\u001B[0;34m\u001B[0m\u001B[0m\n\u001B[0;32m----> 3\u001B[0;31m \u001B[0mexample_matrix\u001B[0m\u001B[0;34m.\u001B[0m\u001B[0minverse\u001B[0m\u001B[0;34m(\u001B[0m\u001B[0;34m)\u001B[0m\u001B[0;34m\u001B[0m\u001B[0;34m\u001B[0m\u001B[0m\n\u001B[0m",
      "\u001B[0;31mRuntimeError\u001B[0m: inverse_cpu: U(10,10) is zero, singular U."
     ]
    }
   ],
   "source": [
    "example_matrix = torch.randn(10, 10)\n",
    "example_matrix[0] = example_matrix[1]\n",
    "example_matrix.inverse()"
   ]
  },
  {
   "cell_type": "markdown",
   "metadata": {},
   "source": [
    "while that below, does not"
   ]
  },
  {
   "cell_type": "code",
   "execution_count": 21,
   "metadata": {},
   "outputs": [
    {
     "data": {
      "text/plain": [
       "tensor([[ 9.8649e+05, -9.8649e+05,  1.5538e-01, -3.4348e-01,  1.6487e-02,\n",
       "          5.1143e-03,  1.5871e-01,  8.5423e-02, -1.2711e-01,  7.8897e-02],\n",
       "        [-9.2569e+03,  9.2567e+03,  1.4117e-01, -3.3482e-01,  2.6141e-02,\n",
       "         -4.6460e-04,  1.4846e-01,  8.0505e-02, -1.1581e-01,  6.9960e-02],\n",
       "        [-8.4551e+05,  8.4551e+05, -2.9351e-01,  8.5539e-01,  1.4354e-01,\n",
       "         -1.2309e-01,  1.7016e-01, -2.0157e-02, -7.9478e-02,  2.6796e-02],\n",
       "        [ 1.0099e+06, -1.0099e+06, -7.4746e-02, -3.5358e-01, -2.3050e-03,\n",
       "          3.0042e-01, -1.8990e-01, -2.9001e-01, -1.8540e-01, -9.4284e-02],\n",
       "        [-6.5222e+05,  6.5222e+05, -1.1970e-01,  2.1391e-01, -8.9799e-02,\n",
       "         -1.9791e-01, -4.2880e-02,  2.3630e-01,  3.3799e-01,  2.3019e-01],\n",
       "        [-3.1872e+05,  3.1872e+05, -5.3983e-02, -3.4335e-01, -1.6669e-01,\n",
       "         -8.3957e-02,  8.7202e-02,  2.2066e-01,  2.8199e-01, -1.2812e-01],\n",
       "        [ 5.2102e+05, -5.2102e+05,  1.2795e-02,  9.0793e-02, -3.1280e-02,\n",
       "         -1.9281e-02, -3.4810e-01, -1.1449e-01, -3.6990e-01, -1.0918e-01],\n",
       "        [ 1.0811e+06, -1.0811e+06,  1.3987e-01,  1.5650e-02, -2.4634e-01,\n",
       "          2.4540e-01, -5.2298e-01, -3.8153e-01,  7.9101e-02, -1.6309e-01],\n",
       "        [ 6.4977e+05, -6.4977e+05, -2.0970e-02,  6.5901e-02,  2.3330e-01,\n",
       "          9.4334e-02, -3.0199e-01, -4.0647e-01, -1.6158e-01, -2.4016e-01],\n",
       "        [-5.2553e+05,  5.2553e+05, -4.5030e-02,  5.3272e-01,  3.3920e-01,\n",
       "          9.0366e-02, -8.3779e-02,  1.1782e-01, -2.7312e-01, -2.2388e-01]])"
      ]
     },
     "execution_count": 21,
     "metadata": {},
     "output_type": "execute_result"
    }
   ],
   "source": [
    "example_matrix += torch.eye(len(example_matrix)) * 1e-6\n",
    "example_matrix.inverse()"
   ]
  },
  {
   "cell_type": "markdown",
   "metadata": {},
   "source": [
    "- the other trick involves using Cholesky decomposition, ex. from p. 19 of _Gaussian Processes for Machine Learning_ by C. E. Rasmussen & C. K. I. Williams. Here, we implement two lines of their algorithm:\n",
    "$$\n",
    "L := \\text{cholesky}(K + \\sigma_n^2 I) \\\\\n",
    "\\mathbf{\\alpha} := L^T\\setminus(L\\setminus\\mathbf{y})\n",
    "$$"
   ]
  },
  {
   "cell_type": "code",
   "execution_count": 25,
   "metadata": {},
   "outputs": [
    {
     "name": "stdout",
     "output_type": "stream",
     "text": [
      "torch.Size([100, 1])\n"
     ]
    }
   ],
   "source": [
    "K = torch.eye(100)  # example matrix 100 x 100\n",
    "y = torch.randn(100, 1)  # example `y` 100 x 1\n",
    "L = K.cholesky()  # cholesky decomposition\n",
    "partial = y.triangular_solve(L, upper=False)[0]  # solving system of linear equations for triangular matrix\n",
    "alpha = partial.triangular_solve(L, upper=False, transpose=True)[0]  # final results\n",
    "print(alpha.shape)"
   ]
  },
  {
   "cell_type": "markdown",
   "metadata": {},
   "source": [
    "More info about Cholesky composition can be found [on Wikipedia page](https://en.wikipedia.org/wiki/Cholesky_decomposition) (surprisingly, it is described quite intuitively).\n",
    "\n",
    "Trivia: `torch.distributions.MultivariateDistribution` uses the Cholesky decomposition on the variance matrix under the hood."
   ]
  },
  {
   "cell_type": "markdown",
   "metadata": {},
   "source": [
    "## Final notes on the implementation\n",
    "\n",
    "In this task, you have to implement the following methods:\n",
    "- `fit_train` method that calculates base parameters of a multivariate gaussians and saves them for future inferences. The method takes $N \\times D$ matrix \n",
    "- `forward` method that takes test dataset, calculates new covariance matrix basing on these points and training points, and provides a multivariate distribution over functions for these points\n",
    "- `sample_fun` that produces a single instance of function crossing training points - many samplings should provide approximate confidence intervals\n",
    "- `log_likelihood` that calculates likelihood of fitted model to the training data - this should be used to find the best parameters of kernels\n",
    "- `confidence_interval` that returns $N \\times 2$ matrix of .95 confidence interval values  where the first column is an upper bound of the interval, and the second - the lower bound"
   ]
  },
  {
   "cell_type": "code",
   "execution_count": null,
   "metadata": {},
   "outputs": [],
   "source": [
    "display(Code(\"gp.py\"))"
   ]
  },
  {
   "cell_type": "markdown",
   "metadata": {},
   "source": [
    "#### Using RBF kernel"
   ]
  },
  {
   "cell_type": "code",
   "execution_count": 48,
   "metadata": {},
   "outputs": [
    {
     "name": "stdout",
     "output_type": "stream",
     "text": [
      "tensor([[-1.3561, -1.2500, -1.0910, -0.6933, -0.5873, -0.4547, -0.0836,  0.3671,\n",
      "          0.4731,  0.7117,  0.9238,  1.4009,  1.6395]])\n",
      "hehe\n"
     ]
    },
    {
     "ename": "AttributeError",
     "evalue": "'numpy.ndarray' object has no attribute 'dim'",
     "output_type": "error",
     "traceback": [
      "\u001B[0;31m---------------------------------------------------------------------------\u001B[0m",
      "\u001B[0;31mAttributeError\u001B[0m                            Traceback (most recent call last)",
      "\u001B[0;32m<ipython-input-48-c55ebdb895da>\u001B[0m in \u001B[0;36m<module>\u001B[0;34m\u001B[0m\n\u001B[1;32m      4\u001B[0m \u001B[0mgp_regressor\u001B[0m\u001B[0;34m.\u001B[0m\u001B[0mfit_train\u001B[0m\u001B[0;34m(\u001B[0m\u001B[0mx_train\u001B[0m\u001B[0;34m,\u001B[0m \u001B[0my_train\u001B[0m\u001B[0;34m)\u001B[0m\u001B[0;34m\u001B[0m\u001B[0;34m\u001B[0m\u001B[0m\n\u001B[1;32m      5\u001B[0m \u001B[0;34m\u001B[0m\u001B[0m\n\u001B[0;32m----> 6\u001B[0;31m \u001B[0mprint\u001B[0m\u001B[0;34m(\u001B[0m\u001B[0;34mf\"Log prob of the model: {gp_regressor.log_likelihood().item()}\"\u001B[0m\u001B[0;34m)\u001B[0m\u001B[0;34m\u001B[0m\u001B[0;34m\u001B[0m\u001B[0m\n\u001B[0m\u001B[1;32m      7\u001B[0m \u001B[0;34m\u001B[0m\u001B[0m\n\u001B[1;32m      8\u001B[0m visualize_data_and_intervals(\n",
      "\u001B[0;32m~/PWr/PUMA/l05/gaussian-processes/gp.py\u001B[0m in \u001B[0;36mlog_likelihood\u001B[0;34m(self, *args)\u001B[0m\n\u001B[1;32m     94\u001B[0m         \u001B[0mprint\u001B[0m\u001B[0;34m(\u001B[0m\u001B[0mself\u001B[0m\u001B[0;34m.\u001B[0m\u001B[0mx\u001B[0m\u001B[0;34m.\u001B[0m\u001B[0mt\u001B[0m\u001B[0;34m(\u001B[0m\u001B[0;34m)\u001B[0m\u001B[0;34m)\u001B[0m\u001B[0;34m\u001B[0m\u001B[0;34m\u001B[0m\u001B[0m\n\u001B[1;32m     95\u001B[0m         \u001B[0mprint\u001B[0m\u001B[0;34m(\u001B[0m\u001B[0;34m'hehe'\u001B[0m\u001B[0;34m)\u001B[0m\u001B[0;34m\u001B[0m\u001B[0;34m\u001B[0m\u001B[0m\n\u001B[0;32m---> 96\u001B[0;31m         \u001B[0mprint\u001B[0m\u001B[0;34m(\u001B[0m\u001B[0mtorch\u001B[0m\u001B[0;34m.\u001B[0m\u001B[0mdistributions\u001B[0m\u001B[0;34m.\u001B[0m\u001B[0mMultivariateNormal\u001B[0m\u001B[0;34m(\u001B[0m\u001B[0mself\u001B[0m\u001B[0;34m.\u001B[0m\u001B[0mmu\u001B[0m\u001B[0;34m,\u001B[0m \u001B[0mK\u001B[0m\u001B[0;34m)\u001B[0m\u001B[0;34m.\u001B[0m\u001B[0mlog_prob\u001B[0m\u001B[0;34m(\u001B[0m\u001B[0mself\u001B[0m\u001B[0;34m.\u001B[0m\u001B[0my\u001B[0m\u001B[0;34m)\u001B[0m\u001B[0;34m)\u001B[0m\u001B[0;34m\u001B[0m\u001B[0;34m\u001B[0m\u001B[0m\n\u001B[0m\u001B[1;32m     97\u001B[0m         \u001B[0;32mreturn\u001B[0m \u001B[0mtorch\u001B[0m\u001B[0;34m.\u001B[0m\u001B[0mdistributions\u001B[0m\u001B[0;34m.\u001B[0m\u001B[0mMultivariateNormal\u001B[0m\u001B[0;34m(\u001B[0m\u001B[0mself\u001B[0m\u001B[0;34m.\u001B[0m\u001B[0mmu\u001B[0m\u001B[0;34m,\u001B[0m \u001B[0mK\u001B[0m\u001B[0;34m)\u001B[0m\u001B[0;34m.\u001B[0m\u001B[0mlog_prob\u001B[0m\u001B[0;34m(\u001B[0m\u001B[0mself\u001B[0m\u001B[0;34m.\u001B[0m\u001B[0my\u001B[0m\u001B[0;34m)\u001B[0m\u001B[0;34m\u001B[0m\u001B[0;34m\u001B[0m\u001B[0m\n\u001B[1;32m     98\u001B[0m \u001B[0;34m\u001B[0m\u001B[0m\n",
      "\u001B[0;32m/usr/local/lib/python3.7/site-packages/torch/distributions/multivariate_normal.py\u001B[0m in \u001B[0;36m__init__\u001B[0;34m(self, loc, covariance_matrix, precision_matrix, scale_tril, validate_args)\u001B[0m\n\u001B[1;32m    118\u001B[0m \u001B[0;34m\u001B[0m\u001B[0m\n\u001B[1;32m    119\u001B[0m     \u001B[0;32mdef\u001B[0m \u001B[0m__init__\u001B[0m\u001B[0;34m(\u001B[0m\u001B[0mself\u001B[0m\u001B[0;34m,\u001B[0m \u001B[0mloc\u001B[0m\u001B[0;34m,\u001B[0m \u001B[0mcovariance_matrix\u001B[0m\u001B[0;34m=\u001B[0m\u001B[0;32mNone\u001B[0m\u001B[0;34m,\u001B[0m \u001B[0mprecision_matrix\u001B[0m\u001B[0;34m=\u001B[0m\u001B[0;32mNone\u001B[0m\u001B[0;34m,\u001B[0m \u001B[0mscale_tril\u001B[0m\u001B[0;34m=\u001B[0m\u001B[0;32mNone\u001B[0m\u001B[0;34m,\u001B[0m \u001B[0mvalidate_args\u001B[0m\u001B[0;34m=\u001B[0m\u001B[0;32mNone\u001B[0m\u001B[0;34m)\u001B[0m\u001B[0;34m:\u001B[0m\u001B[0;34m\u001B[0m\u001B[0;34m\u001B[0m\u001B[0m\n\u001B[0;32m--> 120\u001B[0;31m         \u001B[0;32mif\u001B[0m \u001B[0mloc\u001B[0m\u001B[0;34m.\u001B[0m\u001B[0mdim\u001B[0m\u001B[0;34m(\u001B[0m\u001B[0;34m)\u001B[0m \u001B[0;34m<\u001B[0m \u001B[0;36m1\u001B[0m\u001B[0;34m:\u001B[0m\u001B[0;34m\u001B[0m\u001B[0;34m\u001B[0m\u001B[0m\n\u001B[0m\u001B[1;32m    121\u001B[0m             \u001B[0;32mraise\u001B[0m \u001B[0mValueError\u001B[0m\u001B[0;34m(\u001B[0m\u001B[0;34m\"loc must be at least one-dimensional.\"\u001B[0m\u001B[0;34m)\u001B[0m\u001B[0;34m\u001B[0m\u001B[0;34m\u001B[0m\u001B[0m\n\u001B[1;32m    122\u001B[0m         \u001B[0;32mif\u001B[0m \u001B[0;34m(\u001B[0m\u001B[0mcovariance_matrix\u001B[0m \u001B[0;32mis\u001B[0m \u001B[0;32mnot\u001B[0m \u001B[0;32mNone\u001B[0m\u001B[0;34m)\u001B[0m \u001B[0;34m+\u001B[0m \u001B[0;34m(\u001B[0m\u001B[0mscale_tril\u001B[0m \u001B[0;32mis\u001B[0m \u001B[0;32mnot\u001B[0m \u001B[0;32mNone\u001B[0m\u001B[0;34m)\u001B[0m \u001B[0;34m+\u001B[0m \u001B[0;34m(\u001B[0m\u001B[0mprecision_matrix\u001B[0m \u001B[0;32mis\u001B[0m \u001B[0;32mnot\u001B[0m \u001B[0;32mNone\u001B[0m\u001B[0;34m)\u001B[0m \u001B[0;34m!=\u001B[0m \u001B[0;36m1\u001B[0m\u001B[0;34m:\u001B[0m\u001B[0;34m\u001B[0m\u001B[0;34m\u001B[0m\u001B[0m\n",
      "\u001B[0;31mAttributeError\u001B[0m: 'numpy.ndarray' object has no attribute 'dim'"
     ]
    }
   ],
   "source": [
    "gp_regressor = GPRegressor(\n",
    "    RBFKernel(1, 0.1), 2e-6, jitter=1e-4\n",
    ")\n",
    "gp_regressor.fit_train(x_train, y_train)\n",
    "\n",
    "print(f\"Log prob of the model: {gp_regressor.log_likelihood().item()}\")\n",
    "\n",
    "visualize_data_and_intervals(\n",
    "    x_train, y_train,\n",
    "    x_test, y_test,\n",
    "    x_vis,\n",
    "    gp_regressor\n",
    ")\n",
    "plt.show()\n"
   ]
  },
  {
   "cell_type": "code",
   "execution_count": null,
   "metadata": {},
   "outputs": [],
   "source": [
    "visualize_data_samplings(\n",
    "    x_train, y_train,\n",
    "    x_test, y_test,\n",
    "    x_vis,\n",
    "    gp_regressor,\n",
    "    num_iterations=5\n",
    ")"
   ]
  },
  {
   "cell_type": "markdown",
   "metadata": {},
   "source": [
    "#### Using periodic kernel"
   ]
  },
  {
   "cell_type": "code",
   "execution_count": null,
   "metadata": {},
   "outputs": [],
   "source": [
    "gp_regressor = GPRegressor(\n",
    "    PeriodicKernel(1.1, 0.5, 1.5), 1e-4, jitter=1e-6\n",
    ")\n",
    "gp_regressor.fit_train(x_train, y_train)\n",
    "\n",
    "print(f\"Log prob of the model: {gp_regressor.log_likelihood().item()}\")\n",
    "\n",
    "visualize_data_and_intervals(\n",
    "    x_train, y_train,\n",
    "    x_test, y_test,\n",
    "    x_vis,\n",
    "    gp_regressor\n",
    ")\n",
    "plt.show()"
   ]
  },
  {
   "cell_type": "code",
   "execution_count": null,
   "metadata": {},
   "outputs": [],
   "source": [
    "visualize_data_samplings(\n",
    "    x_train, y_train,\n",
    "    x_test, y_test,\n",
    "    x_vis,\n",
    "    gp_regressor,\n",
    "    num_iterations=5\n",
    ")"
   ]
  },
  {
   "cell_type": "markdown",
   "metadata": {},
   "source": [
    "#### Using combined kernel"
   ]
  },
  {
   "cell_type": "code",
   "execution_count": null,
   "metadata": {},
   "outputs": [],
   "source": [
    "gp_regressor = GPRegressor(\n",
    "    KernelCombiner(\n",
    "        RBFKernel(0.01, 0.2),\n",
    "        PeriodicKernel(2.1, 0.5, 1.5)\n",
    "    ), 1e-4, jitter=5e-2\n",
    ")\n",
    "gp_regressor.fit_train(x_train, y_train)\n",
    "\n",
    "print(f\"Log prob of the model: {gp_regressor.log_likelihood().item()}\")\n",
    "\n",
    "visualize_data_and_intervals(\n",
    "    x_train, y_train,\n",
    "    x_test, y_test,\n",
    "    x_vis,\n",
    "    gp_regressor\n",
    ")\n",
    "plt.show()"
   ]
  },
  {
   "cell_type": "code",
   "execution_count": null,
   "metadata": {},
   "outputs": [],
   "source": [
    "visualize_data_samplings(\n",
    "    x_train, y_train,\n",
    "    x_test, y_test,\n",
    "    x_vis,\n",
    "    gp_regressor,\n",
    "    num_iterations=5\n",
    ")"
   ]
  }
 ],
 "metadata": {
  "kernelspec": {
   "display_name": "puma-venv",
   "language": "python",
   "name": "puma-venv"
  },
  "language_info": {
   "codemirror_mode": {
    "name": "ipython",
    "version": 3
   },
   "file_extension": ".py",
   "mimetype": "text/x-python",
   "name": "python",
   "nbconvert_exporter": "python",
   "pygments_lexer": "ipython3",
   "version": "3.7.7"
  }
 },
 "nbformat": 4,
 "nbformat_minor": 4
}