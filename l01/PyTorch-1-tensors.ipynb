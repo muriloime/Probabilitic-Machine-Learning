{
 "cells": [
  {
   "cell_type": "markdown",
   "metadata": {
    "slideshow": {
     "slide_type": "slide"
    }
   },
   "source": [
    "PyTorch\n",
    "====\n"
   ]
  },
  {
   "cell_type": "markdown",
   "metadata": {
    "slideshow": {
     "slide_type": "subslide"
    }
   },
   "source": [
    "**PyTorch** is an open source machine learning framework with two main features:\n",
    "  *  tensor computation (GPU-accelerated), *a.k.a.* a replacement for NumPy,\n",
    "  *  deep neural networks built on a tape-based autograd system.\n"
   ]
  },
  {
   "cell_type": "code",
   "execution_count": 2,
   "metadata": {
    "scrolled": true,
    "slideshow": {
     "slide_type": "subslide"
    }
   },
   "outputs": [],
   "source": [
    "# import the library\n",
    "import torch\n",
    "import numpy as np"
   ]
  },
  {
   "cell_type": "markdown",
   "metadata": {
    "slideshow": {
     "slide_type": "slide"
    }
   },
   "source": [
    "Tensors\n",
    "-----\n"
   ]
  },
  {
   "cell_type": "markdown",
   "metadata": {
    "slideshow": {
     "slide_type": "subslide"
    }
   },
   "source": [
    "`torch.Tensor` is the central class of the package. Tensors are similar to NumPy's `np.ndarray`s."
   ]
  },
  {
   "cell_type": "markdown",
   "metadata": {
    "slideshow": {
     "slide_type": "subslide"
    }
   },
   "source": [
    "###  1. Create tensors\n"
   ]
  },
  {
   "cell_type": "code",
   "execution_count": null,
   "metadata": {
    "slideshow": {
     "slide_type": "subslide"
    }
   },
   "outputs": [],
   "source": [
    "# construct an empty 5x3 matrix, uninitialized\n",
    "x = torch.empty(5, 3)\n",
    "print(x)\n"
   ]
  },
  {
   "cell_type": "code",
   "execution_count": null,
   "metadata": {
    "slideshow": {
     "slide_type": "subslide"
    }
   },
   "outputs": [],
   "source": [
    "# construct a randomly initialized 5x3 matrix\n",
    "x = torch.rand(5, 3)  # uniform\n",
    "print(x)\n",
    "\n",
    "x = torch.randn(5, 3)  # normal ~ N(0, 1)\n",
    "print(x)"
   ]
  },
  {
   "cell_type": "code",
   "execution_count": null,
   "metadata": {
    "slideshow": {
     "slide_type": "subslide"
    }
   },
   "outputs": [],
   "source": [
    "# construct a matrix filled with zeros, specify dtype as `long`\n",
    "x = torch.zeros(5, 3, dtype=torch.long)\n",
    "print(x)\n"
   ]
  },
  {
   "cell_type": "code",
   "execution_count": null,
   "metadata": {
    "slideshow": {
     "slide_type": "subslide"
    }
   },
   "outputs": [],
   "source": [
    "# construct a tensor from data\n",
    "x = torch.tensor([5.5, 3])  # from list\n",
    "print(x)\n"
   ]
  },
  {
   "cell_type": "code",
   "execution_count": null,
   "metadata": {
    "slideshow": {
     "slide_type": "subslide"
    }
   },
   "outputs": [],
   "source": [
    "# create tensors based on existing tensors, reusing their parameters\n",
    "x = torch.ones(8, 4, dtype=torch.long)\n",
    "print(x)\n",
    "print('-----')\n",
    "\n",
    "# new_* methods reuse source tensor params, unless overridden\n",
    "print(x.new_ones(5, 3))\n",
    "print(x)  # not modified - new_* always copy data\n",
    "print('-----')\n",
    "\n",
    "# zeros_like, ones_like, empty_like, full_like, rand_like, randint_like, randn_like\n",
    "# create tensor of the same size, but different values\n",
    "print(torch.randn_like(x, dtype=torch.double))\n",
    "print(x)  # not modified\n"
   ]
  },
  {
   "cell_type": "markdown",
   "metadata": {
    "slideshow": {
     "slide_type": "slide"
    }
   },
   "source": [
    "###  2. Tensor attributes and operations\n"
   ]
  },
  {
   "cell_type": "markdown",
   "metadata": {
    "slideshow": {
     "slide_type": "subslide"
    }
   },
   "source": [
    "**tensor types**\n",
    "\n",
    "[torch.tensor](https://pytorch.org/docs/stable/tensors.html#torch-tensor)\n"
   ]
  },
  {
   "cell_type": "code",
   "execution_count": null,
   "metadata": {
    "slideshow": {
     "slide_type": "subslide"
    }
   },
   "outputs": [],
   "source": [
    "# indexing and slicing\n",
    "x = torch.tensor([[1, 2, 3, 4], [5, 6, 7, 8], [9, 10, 11, 12]])\n",
    "print(x)\n",
    "print('-----')\n",
    "\n",
    "print(x[0, 3])\n",
    "print(x[1][2])\n",
    "print('-----')\n",
    "\n",
    "print(x[:, :1])\n",
    "print(x[::2])\n",
    "print(x[::2][0])\n",
    "print(x[::2][0][1]) # multiple indexing is applied to the returned tensor\n"
   ]
  },
  {
   "cell_type": "code",
   "execution_count": null,
   "metadata": {
    "slideshow": {
     "slide_type": "subslide"
    }
   },
   "outputs": [],
   "source": [
    "# get value from a single-value tensor\n",
    "x = torch.tensor([[[1]]], dtype=torch.uint8)\n",
    "print(x)\n",
    "print(x.item())\n",
    "print('-----')\n",
    "\n",
    "x = torch.tensor(2.5, dtype=torch.float64)\n",
    "print(x)\n",
    "print(x.item())\n"
   ]
  },
  {
   "cell_type": "code",
   "execution_count": null,
   "metadata": {
    "slideshow": {
     "slide_type": "subslide"
    }
   },
   "outputs": [],
   "source": [
    "# get tensor size\n",
    "x = torch.rand(5, 3)\n",
    "print(x.size())  # <- is a tuple\n",
    "size_tuple = x.size()\n"
   ]
  },
  {
   "cell_type": "code",
   "execution_count": null,
   "metadata": {
    "slideshow": {
     "slide_type": "subslide"
    }
   },
   "outputs": [],
   "source": [
    "# multiple syntaxes for adding\n",
    "x = torch.ones(2, 3, dtype=torch.long)\n",
    "y = torch.randint(high=3, size=(2, 3))\n",
    "print(x + y)  # use `+` operator\n",
    "\n",
    "print(torch.add(x, y))  # use torch function\n",
    "\n",
    "result = torch.empty(2, 3)\n",
    "torch.add(x, y, out=result)  # provide an output tensor <- will return value as well\n",
    "print(result)\n",
    "\n",
    "y.add_(x)  # in-place addition\n",
    "print(y)\n",
    "\n",
    "# any method followed by `_` modifies the tensor in-place\n",
    "# e.g. `copy_`, `t_`\n"
   ]
  },
  {
   "cell_type": "code",
   "execution_count": null,
   "metadata": {
    "slideshow": {
     "slide_type": "subslide"
    }
   },
   "outputs": [],
   "source": [
    "# resizing tensors\n",
    "x = torch.rand(4, 4)\n",
    "print(x.view(16))\n",
    "print(x.view(1, 8, 2))\n",
    "print('-----')\n",
    "\n",
    "reshaped = x.view(2, -1, 4)  # `-1` indicates size inferred from other dimensions\n",
    "print(reshaped.size())\n",
    "print(reshaped)\n"
   ]
  },
  {
   "cell_type": "markdown",
   "metadata": {
    "slideshow": {
     "slide_type": "subslide"
    }
   },
   "source": [
    "All tensor operations are described in the [docs](https://pytorch.org/docs/torch).\n"
   ]
  },
  {
   "cell_type": "markdown",
   "metadata": {
    "slideshow": {
     "slide_type": "slide"
    }
   },
   "source": [
    "###  3. PyTorch & NumPy\n"
   ]
  },
  {
   "cell_type": "markdown",
   "metadata": {
    "slideshow": {
     "slide_type": "subslide"
    }
   },
   "source": [
    "When creating numpy array from torch tensor they will share their memory locations (if the tensor is on CPU).\n"
   ]
  },
  {
   "cell_type": "code",
   "execution_count": null,
   "metadata": {
    "slideshow": {
     "slide_type": "subslide"
    }
   },
   "outputs": [],
   "source": [
    "a = torch.ones(5)\n",
    "print(a)\n",
    "\n",
    "b = a.numpy() #  convert tensor to `np.ndarray`\n",
    "print(b)\n",
    "\n",
    "a.add_(1)\n",
    "print(a)\n",
    "print(b)\n"
   ]
  },
  {
   "cell_type": "markdown",
   "metadata": {
    "slideshow": {
     "slide_type": "subslide"
    }
   },
   "source": [
    "Same happens when converting from numpy array to torch tensor.\n"
   ]
  },
  {
   "cell_type": "code",
   "execution_count": null,
   "metadata": {
    "slideshow": {
     "slide_type": "subslide"
    }
   },
   "outputs": [],
   "source": [
    "a = np.ones(5)\n",
    "b = torch.from_numpy(a)\n",
    "np.add(a, 1, out=a)\n",
    "print(a)\n",
    "print(b)\n"
   ]
  },
  {
   "cell_type": "markdown",
   "metadata": {
    "slideshow": {
     "slide_type": "subslide"
    }
   },
   "source": [
    "Unless you use `torch.tensor`, which copies the data.\n"
   ]
  },
  {
   "cell_type": "code",
   "execution_count": null,
   "metadata": {
    "slideshow": {
     "slide_type": "subslide"
    }
   },
   "outputs": [],
   "source": [
    "a = np.ones(5)\n",
    "b = torch.tensor(a)\n",
    "np.add(a, 1, out=a)\n",
    "print(a)\n",
    "print(b)\n"
   ]
  },
  {
   "cell_type": "markdown",
   "metadata": {
    "slideshow": {
     "slide_type": "subslide"
    }
   },
   "source": [
    "###  4. CUDA\n"
   ]
  },
  {
   "cell_type": "markdown",
   "metadata": {
    "slideshow": {
     "slide_type": "subslide"
    }
   },
   "source": [
    "Tensors can be moved between devices using `.to` method. This part will work only if you use a machine with CUDA GPU.\n"
   ]
  },
  {
   "cell_type": "code",
   "execution_count": null,
   "metadata": {
    "slideshow": {
     "slide_type": "subslide"
    }
   },
   "outputs": [],
   "source": [
    "if torch.cuda.is_available():\n",
    "    gpu = torch.device(\"cuda\")\n",
    "    x = torch.ones(5, 5, device=gpu)\n",
    "    y = torch.randint(3, (5, 5))\n",
    "    y.to(gpu)\n",
    "    result = x + y\n",
    "    print(result)\n",
    "    print(result.to(\"cpu\", dtype=torch.double))\n",
    "else:\n",
    "    print('No CUDA device available.')\n"
   ]
  },
  {
   "cell_type": "markdown",
   "metadata": {
    "slideshow": {
     "slide_type": "slide"
    }
   },
   "source": [
    "Exercises\n",
    "-----\n"
   ]
  },
  {
   "cell_type": "markdown",
   "metadata": {
    "slideshow": {
     "slide_type": "subslide"
    }
   },
   "source": [
    "1. Create two tensors of shape $\\left(27, 19, 31\\right)$ and $\\left(31, 111\\right)$. Use any of the random tensor creation methods. Make sure their dtype is floating-point.\n"
   ]
  },
  {
   "cell_type": "code",
   "execution_count": 3,
   "metadata": {
    "slideshow": {
     "slide_type": "subslide"
    }
   },
   "outputs": [
    {
     "name": "stdout",
     "output_type": "stream",
     "text": [
      "tensor([[[0.7637, 0.2246, 0.3429,  ..., 0.0095, 0.6237, 0.6297],\n",
      "         [0.6899, 0.0101, 0.2589,  ..., 0.1593, 0.9348, 0.3835],\n",
      "         [0.6572, 0.7175, 0.4161,  ..., 0.6151, 0.5322, 0.7949],\n",
      "         ...,\n",
      "         [0.3103, 0.1544, 0.0082,  ..., 0.4927, 0.0096, 0.0815],\n",
      "         [0.8755, 0.9094, 0.3481,  ..., 0.5815, 0.8940, 0.7127],\n",
      "         [0.1945, 0.2902, 0.5658,  ..., 0.1784, 0.7135, 0.4913]],\n",
      "\n",
      "        [[0.0079, 0.7940, 0.4318,  ..., 0.5847, 0.3490, 0.6196],\n",
      "         [0.1378, 0.8509, 0.5542,  ..., 0.5208, 0.4740, 0.0172],\n",
      "         [0.2042, 0.5574, 0.5870,  ..., 0.2229, 0.1239, 0.4172],\n",
      "         ...,\n",
      "         [0.1391, 0.6988, 0.4709,  ..., 0.2086, 0.4990, 0.8197],\n",
      "         [0.3175, 0.0720, 0.3208,  ..., 0.1652, 0.7017, 0.5453],\n",
      "         [0.1755, 0.6605, 0.3012,  ..., 0.1536, 0.3171, 0.7422]],\n",
      "\n",
      "        [[0.5197, 0.7668, 0.8784,  ..., 0.9061, 0.2768, 0.5964],\n",
      "         [0.8688, 0.3013, 0.5497,  ..., 0.3001, 0.8467, 0.3026],\n",
      "         [0.6091, 0.1276, 0.2901,  ..., 0.6791, 0.6425, 0.7764],\n",
      "         ...,\n",
      "         [0.5144, 0.2894, 0.1192,  ..., 0.9209, 0.7990, 0.4547],\n",
      "         [0.7412, 0.1354, 0.5254,  ..., 0.9191, 0.9742, 0.8570],\n",
      "         [0.0024, 0.2352, 0.6562,  ..., 0.6406, 0.0179, 0.0698]],\n",
      "\n",
      "        ...,\n",
      "\n",
      "        [[0.5468, 0.9017, 0.4846,  ..., 0.5569, 0.4333, 0.7718],\n",
      "         [0.6910, 0.6289, 0.8483,  ..., 0.1422, 0.6548, 0.3700],\n",
      "         [0.6440, 0.2438, 0.9989,  ..., 0.0233, 0.4129, 0.7930],\n",
      "         ...,\n",
      "         [0.1870, 0.4302, 0.0988,  ..., 0.1912, 0.9710, 0.2516],\n",
      "         [0.3339, 0.5281, 0.7641,  ..., 0.1092, 0.7169, 0.8147],\n",
      "         [0.5548, 0.4393, 0.7557,  ..., 0.2751, 0.8336, 0.8104]],\n",
      "\n",
      "        [[0.3189, 0.7992, 0.2827,  ..., 0.4757, 0.1137, 0.7168],\n",
      "         [0.5119, 0.4624, 0.3177,  ..., 0.4740, 0.6819, 0.8449],\n",
      "         [0.2847, 0.9554, 0.8795,  ..., 0.4715, 0.6353, 0.4416],\n",
      "         ...,\n",
      "         [0.0127, 0.9664, 0.6446,  ..., 0.3800, 0.0941, 0.0563],\n",
      "         [0.8234, 0.0153, 0.7880,  ..., 0.4302, 0.2092, 0.6477],\n",
      "         [0.8459, 0.9041, 0.9201,  ..., 0.3952, 0.1719, 0.3461]],\n",
      "\n",
      "        [[0.6229, 0.8797, 0.1059,  ..., 0.4649, 0.7466, 0.0906],\n",
      "         [0.0335, 0.5735, 0.7064,  ..., 0.5105, 0.9067, 0.2835],\n",
      "         [0.2460, 0.3710, 0.0198,  ..., 0.0871, 0.6773, 0.7476],\n",
      "         ...,\n",
      "         [0.1016, 0.1998, 0.1671,  ..., 0.8695, 0.7380, 0.3714],\n",
      "         [0.3029, 0.2165, 0.1109,  ..., 0.1840, 0.4864, 0.5109],\n",
      "         [0.1882, 0.7265, 0.4532,  ..., 0.8179, 0.7349, 0.0540]]],\n",
      "       dtype=torch.float64)\n",
      "tensor([[0.1321, 0.6177, 0.5300,  ..., 0.3645, 0.6979, 0.1106],\n",
      "        [0.1903, 0.6626, 0.1714,  ..., 0.5535, 0.0075, 0.8647],\n",
      "        [0.2960, 0.1985, 0.9039,  ..., 0.3992, 0.6176, 0.7492],\n",
      "        ...,\n",
      "        [0.2038, 0.6092, 0.1086,  ..., 0.5234, 0.4474, 0.1192],\n",
      "        [0.3970, 0.4711, 0.2279,  ..., 0.4906, 0.5420, 0.9943],\n",
      "        [0.0326, 0.1457, 0.8957,  ..., 0.9825, 0.7003, 0.0911]],\n",
      "       dtype=torch.float64)\n"
     ]
    }
   ],
   "source": [
    "x = torch.rand(27,19,31, dtype=float)\n",
    "y = torch.rand(31,111, dtype=float)\n",
    "print(x)\n",
    "print(y)"
   ]
  },
  {
   "cell_type": "markdown",
   "metadata": {
    "slideshow": {
     "slide_type": "subslide"
    }
   },
   "source": [
    "2. Perform matrix multiplication of the tensors (`@`, `torch.matmul` or `tensor.matmul_`). What is the size of the new tensor?"
   ]
  },
  {
   "cell_type": "code",
   "execution_count": 4,
   "metadata": {
    "slideshow": {
     "slide_type": "subslide"
    }
   },
   "outputs": [
    {
     "name": "stdout",
     "output_type": "stream",
     "text": [
      "torch.Size([27, 19, 111])\n"
     ]
    }
   ],
   "source": [
    "z = x @ y\n",
    "print(z.size())"
   ]
  },
  {
   "cell_type": "markdown",
   "metadata": {
    "slideshow": {
     "slide_type": "subslide"
    }
   },
   "source": [
    "3. Perform summing across the last dimension (pass optional argument `dim=-1` to `torch.sum`). What is the size of the new tensor?"
   ]
  },
  {
   "cell_type": "code",
   "execution_count": 5,
   "metadata": {
    "slideshow": {
     "slide_type": "subslide"
    }
   },
   "outputs": [
    {
     "name": "stdout",
     "output_type": "stream",
     "text": [
      "torch.Size([27, 19])\n"
     ]
    }
   ],
   "source": [
    "summed = torch.sum(z,dim=-1)\n",
    "print(summed.size())"
   ]
  },
  {
   "cell_type": "markdown",
   "metadata": {
    "slideshow": {
     "slide_type": "subslide"
    }
   },
   "source": [
    "4. Use `torch.mean` to calculate average across the first dimension of the `summed` tensor."
   ]
  },
  {
   "cell_type": "code",
   "execution_count": 6,
   "metadata": {
    "slideshow": {
     "slide_type": "subslide"
    }
   },
   "outputs": [
    {
     "name": "stdout",
     "output_type": "stream",
     "text": [
      "tensor([864.1490, 857.4851, 848.0414, 872.2381, 851.3762, 879.4343, 872.6754,\n",
      "        880.0739, 857.5373, 875.7951, 881.6296, 889.1070, 857.9205, 866.5423,\n",
      "        845.2442, 825.8392, 841.5970, 881.3795, 876.8985], dtype=torch.float64)\n"
     ]
    }
   ],
   "source": [
    "m = torch.mean(summed,dim=0)\n",
    "print(m)"
   ]
  },
  {
   "cell_type": "code",
   "execution_count": null,
   "outputs": [],
   "source": [],
   "metadata": {
    "collapsed": false,
    "pycharm": {
     "name": "#%%\n"
    }
   }
  },
  {
   "cell_type": "code",
   "execution_count": null,
   "outputs": [],
   "source": [],
   "metadata": {
    "collapsed": false,
    "pycharm": {
     "name": "#%%\n"
    }
   }
  },
  {
   "cell_type": "code",
   "execution_count": null,
   "metadata": {},
   "outputs": [],
   "source": []
  }
 ],
 "metadata": {
  "celltoolbar": "Slideshow",
  "kernelspec": {
   "display_name": "Python 3",
   "language": "python",
   "name": "python3"
  },
  "language_info": {
   "codemirror_mode": {
    "name": "ipython",
    "version": 3
   },
   "file_extension": ".py",
   "mimetype": "text/x-python",
   "name": "python",
   "nbconvert_exporter": "python",
   "pygments_lexer": "ipython3",
   "version": "3.7.6"
  },
  "pycharm": {
   "stem_cell": {
    "cell_type": "raw",
    "source": [],
    "metadata": {
     "collapsed": false
    }
   }
  }
 },
 "nbformat": 4,
 "nbformat_minor": 4
}