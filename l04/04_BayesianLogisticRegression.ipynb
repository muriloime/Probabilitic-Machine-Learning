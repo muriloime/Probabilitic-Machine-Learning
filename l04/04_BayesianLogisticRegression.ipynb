{
 "cells": [
  {
   "cell_type": "code",
   "execution_count": null,
   "metadata": {},
   "outputs": [],
   "source": [
    "%load_ext autoreload\n",
    "%autoreload 2\n",
    "\n",
    "import logging\n",
    "logging.basicConfig(format='%(message)s', level=logging.INFO)\n",
    "import pickle\n",
    "\n",
    "\n",
    "import pyro\n",
    "pyro.enable_validation(True)\n",
    "import pyro.distributions as dist\n",
    "from pyro.nn import PyroSample, PyroModule\n",
    "from torch import nn\n"
   ]
  },
  {
   "cell_type": "code",
   "execution_count": null,
   "metadata": {},
   "outputs": [],
   "source": [
    "import sys\n",
    "sys.path.append('./')"
   ]
  },
  {
   "cell_type": "code",
   "execution_count": null,
   "metadata": {},
   "outputs": [],
   "source": [
    "from src.utils import SviPredictive\n",
    "from src.visualization import plot_predictions"
   ]
  },
  {
   "cell_type": "code",
   "execution_count": null,
   "metadata": {},
   "outputs": [],
   "source": [
    "with open('./data/logistic-regression.pkl', 'rb') as f:\n",
    "    data = pickle.load(f)\n",
    "x_train = data['x_train']\n",
    "y_train = data['y_train']\n",
    "x_test = data['x_test']\n",
    "y_test = data['y_test']"
   ]
  },
  {
   "cell_type": "markdown",
   "metadata": {},
   "source": [
    "# Bayesian Logistic Regression\n"
   ]
  },
  {
   "cell_type": "markdown",
   "metadata": {},
   "source": [
    "### [Logistic Regression](https://en.wikipedia.org/wiki/Logistic_regression)\n",
    "An example of [Generalized Linear Model](https://en.wikipedia.org/wiki/Generalized_linear_model) (GLM) with [Logit](https://en.wikipedia.org/wiki/Logit) as link function.\n",
    "\n",
    "$$ \\mathrm{logit}(p) = \\log \\left( \\frac{p}{1 - p} \\right) $$\n",
    "\n",
    "The inverse of Logit is [logistic function](https://en.wikipedia.org/wiki/Logistic_function)\n",
    "\n",
    "$$ \\mathrm{logit}^{-1}(\\alpha) = \\frac{1}{1 + \\exp{(-\\alpha)}}$$"
   ]
  },
  {
   "cell_type": "markdown",
   "metadata": {},
   "source": [
    "### Bayesian Logistic Regression\n",
    "\n",
    "$$ y \\sim \\mathrm{Bernoulli}(p) $$\n",
    "\n",
    "$$ \\mathrm{logit}(p) = \\beta^\\intercal X $$"
   ]
  },
  {
   "cell_type": "code",
   "execution_count": null,
   "metadata": {},
   "outputs": [],
   "source": [
    "class BayesianLogisticRegression(PyroModule):\n",
    "    def __init__(self, in_features, out_features):\n",
    "        super().__init__()\n",
    "        self.linear = PyroModule[nn.Linear](in_features, out_features)\n",
    "        self.linear.weight = PyroSample(\n",
    "            dist.Normal(0., 1.).expand([out_features, in_features]).to_event(2)\n",
    "        )\n",
    "        self.linear.bias = PyroSample(\n",
    "            dist.Normal(0., 10.).expand([out_features]).to_event(1)\n",
    "        )\n",
    "        self.sigmoid = nn.Sigmoid() # logistic function\n",
    "\n",
    "    def forward(self, x, y=None):\n",
    "        mean = self.linear(x).squeeze(-1)\n",
    "        with pyro.plate(\"data\", x.shape[0]):\n",
    "            obs = pyro.sample(\"obs\", dist.Bernoulli(self.sigmoid(mean)), obs=y)\n",
    "        return mean"
   ]
  },
  {
   "cell_type": "markdown",
   "metadata": {},
   "source": [
    "But `Sigmoid` is deterministic and has no parameters. `Bernoulli` can't handle pure `mean`? Yes it can! Just pass it as `logits` instead of `probs`."
   ]
  },
  {
   "cell_type": "code",
   "execution_count": null,
   "metadata": {},
   "outputs": [],
   "source": [
    "class BayesianLogisticRegression(PyroModule):\n",
    "    def __init__(self, in_features, out_features):\n",
    "        super().__init__()\n",
    "        self.linear = PyroModule[nn.Linear](in_features, out_features)\n",
    "        self.linear.weight = PyroSample(\n",
    "            dist.Normal(0., 1.).expand([out_features, in_features]).to_event(2)\n",
    "        )\n",
    "        self.linear.bias = PyroSample(\n",
    "            dist.Normal(0., 10.).expand([out_features]).to_event(1)\n",
    "        )\n",
    "\n",
    "    def forward(self, x, y=None):\n",
    "        mean = self.linear(x).squeeze(-1)\n",
    "        with pyro.plate(\"data\", x.shape[0]):\n",
    "            obs = pyro.sample(\"obs\", dist.Bernoulli(logits=mean), obs=y)\n",
    "        return mean"
   ]
  },
  {
   "cell_type": "code",
   "execution_count": null,
   "metadata": {},
   "outputs": [],
   "source": [
    "from pyro.infer.autoguide import AutoDiagonalNormal\n",
    "\n",
    "model = BayesianLogisticRegression(11, 1)\n",
    "guide = AutoDiagonalNormal(model)\n",
    "\n",
    "from pyro.infer import SVI, Trace_ELBO\n",
    "\n",
    "\n",
    "adam = pyro.optim.Adam({\"lr\": 0.03})\n",
    "svi = SVI(model, guide, adam, loss=Trace_ELBO())\n",
    "\n",
    "\n",
    "num_iterations = 5_000\n",
    "pyro.clear_param_store()\n",
    "for j in range(num_iterations):\n",
    "    loss = svi.step(x_train, y_train)\n",
    "    if j % 500 == 0:\n",
    "        print(\"[iteration %04d] loss: %.4f\" % (j + 1, loss / len(data)))"
   ]
  },
  {
   "cell_type": "code",
   "execution_count": null,
   "metadata": {},
   "outputs": [],
   "source": [
    "dict(pyro.get_param_store())"
   ]
  },
  {
   "cell_type": "code",
   "execution_count": null,
   "metadata": {},
   "outputs": [],
   "source": [
    "num_samples = 1000\n",
    "svi_predictive = SviPredictive(\n",
    "    model,\n",
    "    guide=guide,\n",
    "    num_samples=num_samples,\n",
    "    return_sites=('obs','_RETURN')\n",
    ")\n",
    "svi_predictive(x_test)"
   ]
  },
  {
   "cell_type": "code",
   "execution_count": null,
   "metadata": {},
   "outputs": [],
   "source": [
    "properties = {\n",
    "    'x': 9,\n",
    "    'x_label': \"Percent of sugar\",\n",
    "    'y_label': \"Average output of the model\",\n",
    "    'y_labels': {\n",
    "        0: 'Has no chocolate (0)',\n",
    "        1: 'Has chocolate (1)',\n",
    "    },\n",
    "    'category': 7,\n",
    "    'category_labels': {\n",
    "        0: \"Is not a bar\",\n",
    "        1: \"Is bar\",\n",
    "    }\n",
    "}\n",
    "predictors = {\n",
    "    'SVI': svi_predictive\n",
    "}\n",
    "data = {\n",
    "    'x': x_test,\n",
    "    'y': y_test\n",
    "}\n",
    "plot_predictions(data, predictors, properties, regression='logistic')"
   ]
  }
 ],
 "metadata": {
  "kernelspec": {
   "display_name": "Python 3",
   "language": "python",
   "name": "python3"
  },
  "language_info": {
   "codemirror_mode": {
    "name": "ipython",
    "version": 3
   },
   "file_extension": ".py",
   "mimetype": "text/x-python",
   "name": "python",
   "nbconvert_exporter": "python",
   "pygments_lexer": "ipython3",
   "version": "3.7.7"
  },
  "pycharm": {
   "stem_cell": {
    "cell_type": "raw",
    "metadata": {
     "collapsed": false
    },
    "source": []
   }
  }
 },
 "nbformat": 4,
 "nbformat_minor": 4
}
